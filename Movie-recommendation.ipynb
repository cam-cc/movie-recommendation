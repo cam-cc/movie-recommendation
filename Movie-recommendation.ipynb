{
  "cells": [
    {
      "cell_type": "markdown",
      "metadata": {
        "id": "Cf3GloRNvOOG"
      },
      "source": [
        "# **Project - Recommendation Systems: Movie Recommendation System**\n",
        "\n",
        "## **Marks: 40**\n",
        "---------------\n",
        "## **Context**\n",
        "---------------\n",
        "\n",
        "Online streaming platforms like **Netflix** have plenty of movies in their repository and if we can build a **Recommendation System** to recommend **relevant movies** to users, based on their **historical interactions**, this would **improve customer satisfaction** and hence, it will also improve the revenue of the platform. The techniques that we will learn here will not only be limited to movies, it can be any item for which you want to build a recommendation system.\n",
        "\n",
        "-----------------\n",
        "## **Objective**\n",
        "-----------------\n",
        "\n",
        "In this project we will be building various recommendation systems: \n",
        "- Knowledge/Rank based recommendation system\n",
        "- Similarity-Based Collaborative filtering\n",
        "- Matrix Factorization Based Collaborative Filtering\n",
        "\n",
        "we are going to use the **ratings** dataset. \n",
        "\n",
        "-----------------\n",
        "## **Dataset**\n",
        "-----------------\n",
        "\n",
        "The **ratings** dataset contains the following attributes: \n",
        "- userId\n",
        "- movieId\n",
        "- rating\n",
        "- timestamp"
      ]
    },
    {
      "cell_type": "markdown",
      "metadata": {
        "id": "VcUTqJ5pwmuY"
      },
      "source": [
        "Sometimes, the installation of the surprise library, which is used to build recommendation systems, faces issues in Jupyter. To avoid any issues, it is advised to use **Google Colab** for this case study.\n",
        "\n",
        "Let's start by mounting the Google drive on Colab."
      ]
    },
    {
      "cell_type": "code",
      "execution_count": null,
      "metadata": {
        "id": "FYrMMOH6sm8f"
      },
      "outputs": [],
      "source": [
        "# uncomment if you are using google colab\n",
        "\n",
        "#from google.colab import drive\n",
        "#drive.mount('/content/drive')"
      ]
    },
    {
      "cell_type": "markdown",
      "metadata": {
        "id": "9hczXgBkvOOG"
      },
      "source": [
        "## **Importing the necessary libraries and overview of the dataset**"
      ]
    },
    {
      "cell_type": "code",
      "execution_count": 3,
      "metadata": {
        "id": "Gem2ozi_vOOG"
      },
      "outputs": [],
      "source": [
        "# Used to ignore the warning given as output of the code\n",
        "import warnings                                 \n",
        "warnings.filterwarnings('ignore')\n",
        "\n",
        "# Basic libraries of python for numeric and dataframe computations\n",
        "import numpy as np                              \n",
        "\n",
        "import pandas as pd\n",
        "\n",
        "# Basic library for data visualization\n",
        "import matplotlib.pyplot as plt     \n",
        "\n",
        "# Slightly advanced library for data visualization            \n",
        "import seaborn as sns                           \n",
        "\n",
        "# A dictionary output that does not raise a key error\n",
        "from collections import defaultdict             \n",
        "\n",
        "# A performance metrics in surprise\n",
        "from surprise import accuracy\n",
        "\n",
        "# Class is used to parse a file containing ratings, data should be in structure - user ; item ; rating\n",
        "from surprise.reader import Reader\n",
        "\n",
        "# Class for loading datasets\n",
        "from surprise.dataset import Dataset\n",
        "\n",
        "# For model tuning model hyper-parameters\n",
        "from surprise.model_selection import GridSearchCV\n",
        "\n",
        "# For splitting the rating data in train and test dataset\n",
        "from surprise.model_selection import train_test_split\n",
        "\n",
        "# For implementing similarity based recommendation system\n",
        "from surprise.prediction_algorithms.knns import KNNBasic\n",
        "\n",
        "# For implementing matrix factorization based recommendation system\n",
        "from surprise.prediction_algorithms.matrix_factorization import SVD\n",
        "\n",
        "# For implementing cross validation\n",
        "from surprise.model_selection import KFold"
      ]
    },
    {
      "cell_type": "markdown",
      "metadata": {
        "id": "ewHMWerQ2N9T"
      },
      "source": [
        "### **Loading the data**"
      ]
    },
    {
      "cell_type": "code",
      "execution_count": 4,
      "metadata": {
        "id": "EdQIx3OLvOOG"
      },
      "outputs": [],
      "source": [
        "# Import the dataset\n",
        "rating = pd.read_csv('ratings.csv')\n",
        "#rating = pd.read_csv('/content/drive/MyDrive/ratings.csv') # Uncomment this line code  and comment above line of code if you are using google colab."
      ]
    },
    {
      "cell_type": "markdown",
      "metadata": {
        "id": "WAW3gTmB2N9a"
      },
      "source": [
        "Let's check the **info** of the data"
      ]
    },
    {
      "cell_type": "code",
      "execution_count": 5,
      "metadata": {
        "id": "8zF1K1hDvOOG"
      },
      "outputs": [
        {
          "name": "stdout",
          "output_type": "stream",
          "text": [
            "<class 'pandas.core.frame.DataFrame'>\n",
            "RangeIndex: 100004 entries, 0 to 100003\n",
            "Data columns (total 4 columns):\n",
            " #   Column     Non-Null Count   Dtype  \n",
            "---  ------     --------------   -----  \n",
            " 0   userId     100004 non-null  int64  \n",
            " 1   movieId    100004 non-null  int64  \n",
            " 2   rating     100004 non-null  float64\n",
            " 3   timestamp  100004 non-null  int64  \n",
            "dtypes: float64(1), int64(3)\n",
            "memory usage: 3.1 MB\n"
          ]
        }
      ],
      "source": [
        "rating.info()"
      ]
    },
    {
      "cell_type": "markdown",
      "metadata": {
        "id": "202Ux9MH2N9f"
      },
      "source": [
        "- There are **1,00,004 observations** and **4 columns** in the data\n",
        "- All the columns are of **numeric data type**\n",
        "- The data type of the timestamp column is int64 which is not correct. We can convert this to DateTime format but **we don't need timestamp for our analysis**. Hence, **we can drop this column**"
      ]
    },
    {
      "cell_type": "code",
      "execution_count": 6,
      "metadata": {
        "id": "fltadjTcvOOH"
      },
      "outputs": [],
      "source": [
        "# Dropping timestamp column\n",
        "rating = rating.drop(['timestamp'], axis=1)"
      ]
    },
    {
      "cell_type": "markdown",
      "metadata": {
        "id": "mHOFHmoBwIAw"
      },
      "source": [
        "## **Question 1: Exploring the dataset (7 Marks)**\n",
        "\n",
        "Let's explore the dataset and answer some basic data-related questions:\n",
        "\n",
        "###**Q 1.1 Print the top 5 rows of the dataset (1 Mark)**"
      ]
    },
    {
      "cell_type": "code",
      "execution_count": 5,
      "metadata": {
        "id": "1Q6gs-IO2N9i"
      },
      "outputs": [
        {
          "data": {
            "text/html": [
              "<div>\n",
              "<style scoped>\n",
              "    .dataframe tbody tr th:only-of-type {\n",
              "        vertical-align: middle;\n",
              "    }\n",
              "\n",
              "    .dataframe tbody tr th {\n",
              "        vertical-align: top;\n",
              "    }\n",
              "\n",
              "    .dataframe thead th {\n",
              "        text-align: right;\n",
              "    }\n",
              "</style>\n",
              "<table border=\"1\" class=\"dataframe\">\n",
              "  <thead>\n",
              "    <tr style=\"text-align: right;\">\n",
              "      <th></th>\n",
              "      <th>userId</th>\n",
              "      <th>movieId</th>\n",
              "      <th>rating</th>\n",
              "    </tr>\n",
              "  </thead>\n",
              "  <tbody>\n",
              "    <tr>\n",
              "      <th>0</th>\n",
              "      <td>1</td>\n",
              "      <td>31</td>\n",
              "      <td>2.5</td>\n",
              "    </tr>\n",
              "    <tr>\n",
              "      <th>1</th>\n",
              "      <td>1</td>\n",
              "      <td>1029</td>\n",
              "      <td>3.0</td>\n",
              "    </tr>\n",
              "    <tr>\n",
              "      <th>2</th>\n",
              "      <td>1</td>\n",
              "      <td>1061</td>\n",
              "      <td>3.0</td>\n",
              "    </tr>\n",
              "    <tr>\n",
              "      <th>3</th>\n",
              "      <td>1</td>\n",
              "      <td>1129</td>\n",
              "      <td>2.0</td>\n",
              "    </tr>\n",
              "    <tr>\n",
              "      <th>4</th>\n",
              "      <td>1</td>\n",
              "      <td>1172</td>\n",
              "      <td>4.0</td>\n",
              "    </tr>\n",
              "  </tbody>\n",
              "</table>\n",
              "</div>"
            ],
            "text/plain": [
              "   userId  movieId  rating\n",
              "0       1       31     2.5\n",
              "1       1     1029     3.0\n",
              "2       1     1061     3.0\n",
              "3       1     1129     2.0\n",
              "4       1     1172     4.0"
            ]
          },
          "execution_count": 5,
          "metadata": {},
          "output_type": "execute_result"
        }
      ],
      "source": [
        "# Printing the top 5 rows of the dataset Hint: use .head()\n",
        "\n",
        "# Remove _______and complete the code\n",
        "rating.head(5)"
      ]
    },
    {
      "cell_type": "markdown",
      "metadata": {
        "id": "fBZYy0HavOOH"
      },
      "source": [
        "### **Q 1.2 Describe the distribution of ratings. (1 Mark)**\n",
        "\n"
      ]
    },
    {
      "cell_type": "code",
      "execution_count": 7,
      "metadata": {
        "id": "lO-EYEl3wIA2"
      },
      "outputs": [
        {
          "data": {
            "image/png": "[encoded data removed]",
            "text/plain": [
              "<Figure size 1200x400 with 1 Axes>"
            ]
          },
          "metadata": {},
          "output_type": "display_data"
        }
      ],
      "source": [
        "plt.figure(figsize = (12, 4))\n",
        "\n",
        "# Remove _______and complete the code\n",
        "sns.countplot(data = rating, x = \"rating\")\n",
        "\n",
        "plt.tick_params(labelsize = 10)\n",
        "plt.title(\"Distribution of Ratings \", fontsize = 10)\n",
        "plt.xlabel(\"Ratings\", fontsize = 10)\n",
        "plt.ylabel(\"Number of Ratings\", fontsize = 10)\n",
        "plt.show()"
      ]
    },
    {
      "attachments": {},
      "cell_type": "markdown",
      "metadata": {
        "id": "vgRDrtHhwIA4"
      },
      "source": [
        "**Write your Answer here:______**\n",
        "\n",
        "1. Users do not typically dislike a move.\n",
        "2. There is a lot of 4 star ratings.\n",
        "3. more obviously As per Histogram, Rating '4' has highest count of ratings 25000+ .Rating '3' being second with 20000 and Rating '5' being third in count of ratings being in the range of 15000."
      ]
    },
    {
      "cell_type": "markdown",
      "metadata": {
        "id": "UOBD03d9vOOH"
      },
      "source": [
        "### **Q 1.3 What is the total number of unique users and unique movies? (1 Mark)**\n"
      ]
    },
    {
      "cell_type": "code",
      "execution_count": 8,
      "metadata": {
        "id": "RMpbsZGGvOOH"
      },
      "outputs": [
        {
          "data": {
            "text/plain": [
              "671"
            ]
          },
          "execution_count": 8,
          "metadata": {},
          "output_type": "execute_result"
        }
      ],
      "source": [
        "# Finding number of unique users\n",
        "#remove _______ and complete the code\n",
        "len(rating['userId'].unique())"
      ]
    },
    {
      "attachments": {},
      "cell_type": "markdown",
      "metadata": {
        "id": "CI8gofnx2N9m"
      },
      "source": [
        "**Write your answer here:______**\n",
        "\n",
        "\n",
        "there is 671 unique users in the list."
      ]
    },
    {
      "cell_type": "code",
      "execution_count": 9,
      "metadata": {
        "id": "9A6Qmo_6vOOH"
      },
      "outputs": [
        {
          "data": {
            "text/plain": [
              "9066"
            ]
          },
          "execution_count": 9,
          "metadata": {},
          "output_type": "execute_result"
        }
      ],
      "source": [
        "# Finding number of unique movies\n",
        "# Remove _______ and complete the code\n",
        "\n",
        "len(rating['movieId'].unique())"
      ]
    },
    {
      "attachments": {},
      "cell_type": "markdown",
      "metadata": {
        "id": "mDWJghQ62N9o"
      },
      "source": [
        "**Write your answer here:______**\n",
        "\n",
        "there is 9,066 unique movies in the list."
      ]
    },
    {
      "cell_type": "markdown",
      "metadata": {
        "id": "mR9tzSzTvOOH"
      },
      "source": [
        "### **Q 1.4 Is there a movie in which the same user interacted with it more than once? (1 Mark)**"
      ]
    },
    {
      "cell_type": "code",
      "execution_count": 10,
      "metadata": {
        "id": "xstEDCVfvOOH"
      },
      "outputs": [
        {
          "data": {
            "text/html": [
              "<div>\n",
              "<style scoped>\n",
              "    .dataframe tbody tr th:only-of-type {\n",
              "        vertical-align: middle;\n",
              "    }\n",
              "\n",
              "    .dataframe tbody tr th {\n",
              "        vertical-align: top;\n",
              "    }\n",
              "\n",
              "    .dataframe thead th {\n",
              "        text-align: right;\n",
              "    }\n",
              "</style>\n",
              "<table border=\"1\" class=\"dataframe\">\n",
              "  <thead>\n",
              "    <tr style=\"text-align: right;\">\n",
              "      <th></th>\n",
              "      <th></th>\n",
              "      <th>rating</th>\n",
              "    </tr>\n",
              "    <tr>\n",
              "      <th>userId</th>\n",
              "      <th>movieId</th>\n",
              "      <th></th>\n",
              "    </tr>\n",
              "  </thead>\n",
              "  <tbody>\n",
              "    <tr>\n",
              "      <th rowspan=\"5\" valign=\"top\">1</th>\n",
              "      <th>31</th>\n",
              "      <td>1</td>\n",
              "    </tr>\n",
              "    <tr>\n",
              "      <th>1029</th>\n",
              "      <td>1</td>\n",
              "    </tr>\n",
              "    <tr>\n",
              "      <th>1061</th>\n",
              "      <td>1</td>\n",
              "    </tr>\n",
              "    <tr>\n",
              "      <th>1129</th>\n",
              "      <td>1</td>\n",
              "    </tr>\n",
              "    <tr>\n",
              "      <th>1172</th>\n",
              "      <td>1</td>\n",
              "    </tr>\n",
              "    <tr>\n",
              "      <th>...</th>\n",
              "      <th>...</th>\n",
              "      <td>...</td>\n",
              "    </tr>\n",
              "    <tr>\n",
              "      <th rowspan=\"5\" valign=\"top\">671</th>\n",
              "      <th>6268</th>\n",
              "      <td>1</td>\n",
              "    </tr>\n",
              "    <tr>\n",
              "      <th>6269</th>\n",
              "      <td>1</td>\n",
              "    </tr>\n",
              "    <tr>\n",
              "      <th>6365</th>\n",
              "      <td>1</td>\n",
              "    </tr>\n",
              "    <tr>\n",
              "      <th>6385</th>\n",
              "      <td>1</td>\n",
              "    </tr>\n",
              "    <tr>\n",
              "      <th>6565</th>\n",
              "      <td>1</td>\n",
              "    </tr>\n",
              "  </tbody>\n",
              "</table>\n",
              "<p>100004 rows × 1 columns</p>\n",
              "</div>"
            ],
            "text/plain": [
              "                rating\n",
              "userId movieId        \n",
              "1      31            1\n",
              "       1029          1\n",
              "       1061          1\n",
              "       1129          1\n",
              "       1172          1\n",
              "...                ...\n",
              "671    6268          1\n",
              "       6269          1\n",
              "       6365          1\n",
              "       6385          1\n",
              "       6565          1\n",
              "\n",
              "[100004 rows x 1 columns]"
            ]
          },
          "execution_count": 10,
          "metadata": {},
          "output_type": "execute_result"
        }
      ],
      "source": [
        "rating.groupby(['userId', 'movieId']).count()"
      ]
    },
    {
      "cell_type": "code",
      "execution_count": 11,
      "metadata": {
        "id": "d1E2i5rZvOOI"
      },
      "outputs": [
        {
          "data": {
            "text/plain": [
              "100004"
            ]
          },
          "execution_count": 11,
          "metadata": {},
          "output_type": "execute_result"
        }
      ],
      "source": [
        "rating.groupby(['userId', 'movieId']).count()['rating'].sum()"
      ]
    },
    {
      "attachments": {},
      "cell_type": "markdown",
      "metadata": {
        "id": "ynCEs7q3vOOI"
      },
      "source": [
        "The sum is equal to the total number of observations which implies that there is only interaction between a pair of items and a user."
      ]
    },
    {
      "cell_type": "markdown",
      "metadata": {
        "id": "JQgjqRnevOOI"
      },
      "source": [
        "### **Q 1.5 Which is the most interacted movie in the dataset? (1 Mark)**"
      ]
    },
    {
      "cell_type": "code",
      "execution_count": 12,
      "metadata": {
        "id": "4LBbXdoDvOOI"
      },
      "outputs": [
        {
          "data": {
            "text/plain": [
              "0    356\n",
              "Name: movieId, dtype: int64"
            ]
          },
          "execution_count": 12,
          "metadata": {},
          "output_type": "execute_result"
        }
      ],
      "source": [
        "# Remove _______ and complete the code\n",
        "rating['movieId'].mode()"
      ]
    },
    {
      "attachments": {},
      "cell_type": "markdown",
      "metadata": {
        "id": "PSo-c_XAvOOI"
      },
      "source": [
        "356 Is the most interacted movie"
      ]
    },
    {
      "cell_type": "code",
      "execution_count": 13,
      "metadata": {
        "id": "fVkc1FK22N9r"
      },
      "outputs": [
        {
          "data": {
            "image/png": "[encoded data removed]",
            "text/plain": [
              "<Figure size 700x700 with 1 Axes>"
            ]
          },
          "metadata": {},
          "output_type": "display_data"
        }
      ],
      "source": [
        "# Plotting distributions of ratings for 341 interactions with movieid 356 \n",
        "plt.figure(figsize=(7,7))\n",
        "\n",
        "rating[rating['movieId'] == 356]['rating'].value_counts().plot(kind='bar')\n",
        "\n",
        "plt.xlabel('Rating')\n",
        "\n",
        "plt.ylabel('Count')\n",
        "\n",
        "plt.show()"
      ]
    },
    {
      "attachments": {},
      "cell_type": "markdown",
      "metadata": {
        "id": "0pQn17ro2N9s"
      },
      "source": [
        "1. the movie with id 356 "
      ]
    },
    {
      "cell_type": "markdown",
      "metadata": {
        "id": "0kXJ_iTEvOOI"
      },
      "source": [
        "### **Q 1.6 Which user interacted the most with any movie in the dataset? (1 Mark)**"
      ]
    },
    {
      "cell_type": "code",
      "execution_count": 14,
      "metadata": {
        "id": "t7ehlMLDvOOI"
      },
      "outputs": [
        {
          "data": {
            "text/plain": [
              "0    547\n",
              "Name: userId, dtype: int64"
            ]
          },
          "execution_count": 14,
          "metadata": {},
          "output_type": "execute_result"
        }
      ],
      "source": [
        "# Remove _______ and complete the code\n",
        "rating['userId'].mode()"
      ]
    },
    {
      "attachments": {},
      "cell_type": "markdown",
      "metadata": {
        "id": "W-Sdna2ovOOI"
      },
      "source": [
        "- the most common user seen in the database is user 547 which implies that this user interactis with any movie the most out of everyone."
      ]
    },
    {
      "cell_type": "markdown",
      "metadata": {
        "id": "lHReghdivOOI"
      },
      "source": [
        "### **Q 1.7 What is the distribution of the user-movie interactions in this dataset? (1 Mark)**"
      ]
    },
    {
      "cell_type": "code",
      "execution_count": 16,
      "metadata": {
        "id": "0XArWJ7l2N9v"
      },
      "outputs": [
        {
          "data": {
            "text/plain": [
              "userId\n",
              "1       20\n",
              "2       76\n",
              "3       51\n",
              "4      204\n",
              "5      100\n",
              "      ... \n",
              "667     68\n",
              "668     20\n",
              "669     37\n",
              "670     31\n",
              "671    115\n",
              "Name: movieId, Length: 671, dtype: int64"
            ]
          },
          "execution_count": 16,
          "metadata": {},
          "output_type": "execute_result"
        }
      ],
      "source": [
        "# Finding user-movie interactions distribution\n",
        "count_interactions = rating.groupby('userId').count()['movieId']\n",
        "count_interactions"
      ]
    },
    {
      "cell_type": "code",
      "execution_count": 17,
      "metadata": {
        "id": "JoNCRm88vOOI"
      },
      "outputs": [
        {
          "data": {
            "image/png": "[encoded data removed]",
            "text/plain": [
              "<Figure size 1500x700 with 1 Axes>"
            ]
          },
          "metadata": {},
          "output_type": "display_data"
        }
      ],
      "source": [
        "# Plotting user-movie interactions distribution\n",
        "\n",
        "plt.figure(figsize=(15,7))\n",
        "# Remove _______ and complete the code\n",
        "\n",
        "sns.histplot(data = count_interactions)\n",
        "\n",
        "plt.xlabel('Number of Interactions by Users')\n",
        "\n",
        "plt.show()"
      ]
    },
    {
      "attachments": {},
      "cell_type": "markdown",
      "metadata": {
        "id": "vmj5nPiN2N9w"
      },
      "source": [
        "**Write your Answer here:__________**\n",
        "\n",
        "1. the data is very right skewed\n",
        "2. most users typically rate very few movies\n",
        "3. very few users have over 200 interactions"
      ]
    },
    {
      "cell_type": "markdown",
      "metadata": {
        "id": "knK9ML0bwIBR"
      },
      "source": [
        "#### As we have now explored the data, let's start building Recommendation systems\n",
        "\n",
        "## **Question 2: Create Rank-Based Recommendation System (3 Marks)**"
      ]
    },
    {
      "cell_type": "markdown",
      "metadata": {
        "id": "CqFN5jDJvOOJ"
      },
      "source": [
        "### **Model 1: Rank-Based Recommendation System**"
      ]
    },
    {
      "cell_type": "markdown",
      "metadata": {
        "id": "W26vIRn1vOOJ"
      },
      "source": [
        "Rank-based recommendation systems provide recommendations based on the most popular items. This kind of recommendation system is useful when we have **cold start** problems. Cold start refers to the issue when we get a new user into the system and the machine is not able to recommend movies to the new user, as the user did not have any historical interactions in the dataset. In those cases, we can use rank-based recommendation system to recommend movies to the new user."
      ]
    },
    {
      "cell_type": "markdown",
      "metadata": {
        "id": "I3t4uyGlvOOK"
      },
      "source": [
        "To build the rank-based recommendation system, we take **average** of all the ratings provided to each movie and then rank them based on their average rating."
      ]
    },
    {
      "cell_type": "code",
      "execution_count": 18,
      "metadata": {
        "id": "xuMR3XFIvOOK"
      },
      "outputs": [],
      "source": [
        "# Remove _______ and complete the code\n",
        "\n",
        "# Calculating average ratings\n",
        "average_rating = rating.groupby('movieId').mean()[\"rating\"]\n",
        "\n",
        "# Calculating the count of ratings\n",
        "count_rating = rating.groupby('movieId').count()[\"rating\"]\n",
        "\n",
        "# Making a dataframe with the count and average of ratings\n",
        "final_rating = pd.DataFrame({'avg_rating':average_rating, 'rating_count':count_rating})"
      ]
    },
    {
      "cell_type": "code",
      "execution_count": 19,
      "metadata": {
        "id": "J6NLX6FIvOOK"
      },
      "outputs": [
        {
          "data": {
            "text/html": [
              "<div>\n",
              "<style scoped>\n",
              "    .dataframe tbody tr th:only-of-type {\n",
              "        vertical-align: middle;\n",
              "    }\n",
              "\n",
              "    .dataframe tbody tr th {\n",
              "        vertical-align: top;\n",
              "    }\n",
              "\n",
              "    .dataframe thead th {\n",
              "        text-align: right;\n",
              "    }\n",
              "</style>\n",
              "<table border=\"1\" class=\"dataframe\">\n",
              "  <thead>\n",
              "    <tr style=\"text-align: right;\">\n",
              "      <th></th>\n",
              "      <th>avg_rating</th>\n",
              "      <th>rating_count</th>\n",
              "    </tr>\n",
              "    <tr>\n",
              "      <th>movieId</th>\n",
              "      <th></th>\n",
              "      <th></th>\n",
              "    </tr>\n",
              "  </thead>\n",
              "  <tbody>\n",
              "    <tr>\n",
              "      <th>1</th>\n",
              "      <td>3.872470</td>\n",
              "      <td>247</td>\n",
              "    </tr>\n",
              "    <tr>\n",
              "      <th>2</th>\n",
              "      <td>3.401869</td>\n",
              "      <td>107</td>\n",
              "    </tr>\n",
              "    <tr>\n",
              "      <th>3</th>\n",
              "      <td>3.161017</td>\n",
              "      <td>59</td>\n",
              "    </tr>\n",
              "    <tr>\n",
              "      <th>4</th>\n",
              "      <td>2.384615</td>\n",
              "      <td>13</td>\n",
              "    </tr>\n",
              "    <tr>\n",
              "      <th>5</th>\n",
              "      <td>3.267857</td>\n",
              "      <td>56</td>\n",
              "    </tr>\n",
              "  </tbody>\n",
              "</table>\n",
              "</div>"
            ],
            "text/plain": [
              "         avg_rating  rating_count\n",
              "movieId                          \n",
              "1          3.872470           247\n",
              "2          3.401869           107\n",
              "3          3.161017            59\n",
              "4          2.384615            13\n",
              "5          3.267857            56"
            ]
          },
          "execution_count": 19,
          "metadata": {},
          "output_type": "execute_result"
        }
      ],
      "source": [
        "final_rating.head()"
      ]
    },
    {
      "cell_type": "markdown",
      "metadata": {
        "id": "Pv31nHm_2N9y"
      },
      "source": [
        "Now, let's create a function to find the **top n movies** for a recommendation based on the average ratings of movies. We can also add a **threshold for a minimum number of interactions** for a movie to be considered for recommendation. "
      ]
    },
    {
      "cell_type": "code",
      "execution_count": 20,
      "metadata": {
        "id": "Fy0SbxnevOOK"
      },
      "outputs": [],
      "source": [
        "def top_n_movies(data, n, min_interaction=100):\n",
        "    \n",
        "    #Finding movies with minimum number of interactions\n",
        "    recommendations = data[data['rating_count'] >= min_interaction]\n",
        "    \n",
        "    #Sorting values w.r.t average rating \n",
        "    recommendations = recommendations.sort_values(by='avg_rating', ascending=False)\n",
        "    \n",
        "    return recommendations.index[:n]"
      ]
    },
    {
      "cell_type": "markdown",
      "metadata": {
        "id": "fi9vhL4Z2N9y"
      },
      "source": [
        "We can **use this function with different n's and minimum interactions** to get movies to recommend"
      ]
    },
    {
      "cell_type": "markdown",
      "metadata": {
        "id": "hkz4LlTpvOOK"
      },
      "source": [
        "#### **Recommending top 5 movies with 50 minimum interactions based on popularity**"
      ]
    },
    {
      "cell_type": "code",
      "execution_count": 21,
      "metadata": {
        "id": "u-JX_ES9vOOK"
      },
      "outputs": [
        {
          "data": {
            "text/plain": [
              "[858, 318, 969, 913, 1221]"
            ]
          },
          "execution_count": 21,
          "metadata": {},
          "output_type": "execute_result"
        }
      ],
      "source": [
        "# Remove _______ and complete the code\n",
        "list(top_n_movies(final_rating, 5, min_interaction=50))"
      ]
    },
    {
      "cell_type": "markdown",
      "metadata": {
        "id": "KRFTrsBVvOOK"
      },
      "source": [
        "#### **Recommending top 5 movies with 100 minimum interactions based on popularity**"
      ]
    },
    {
      "cell_type": "code",
      "execution_count": 22,
      "metadata": {
        "id": "U2wvxF2rvOOK"
      },
      "outputs": [
        {
          "data": {
            "text/plain": [
              "[858, 318, 1221, 50, 527]"
            ]
          },
          "execution_count": 22,
          "metadata": {},
          "output_type": "execute_result"
        }
      ],
      "source": [
        "# Remove _______ and complete the code\n",
        "list(top_n_movies(final_rating, 5, min_interaction=100))"
      ]
    },
    {
      "cell_type": "markdown",
      "metadata": {
        "id": "_3SW8bLkvOOK"
      },
      "source": [
        "#### **Recommending top 5 movies with 200 minimum interactions based on popularity**"
      ]
    },
    {
      "cell_type": "code",
      "execution_count": 23,
      "metadata": {
        "id": "t6ziQvDgvOOK"
      },
      "outputs": [
        {
          "data": {
            "text/plain": [
              "[858, 318, 50, 527, 608]"
            ]
          },
          "execution_count": 23,
          "metadata": {},
          "output_type": "execute_result"
        }
      ],
      "source": [
        "# Remove _______ and complete the code\n",
        "list(top_n_movies(final_rating, 5, min_interaction=200))"
      ]
    },
    {
      "cell_type": "markdown",
      "metadata": {
        "id": "r4vrsunx2N91"
      },
      "source": [
        "Now that we have seen **how to apply the Rank-Based Recommendation System**, let's apply the **Collaborative Filtering Based Recommendation Systems**."
      ]
    },
    {
      "cell_type": "markdown",
      "metadata": {
        "id": "sJI5kiiGvOOK"
      },
      "source": [
        "## **Model 2: User based Collaborative Filtering Recommendation System (7 Marks)**"
      ]
    },
    {
      "cell_type": "markdown",
      "metadata": {
        "id": "wVjPUvj82N92"
      },
      "source": [
        "![collaborative_filtering.PNG](https://raw.githubusercontent.com/GL-ACADOPS/RS-IMAGES/main/collaborative_filtering.PNG)"
      ]
    },
    {
      "cell_type": "markdown",
      "metadata": {
        "id": "H4yaWX37vOOK"
      },
      "source": [
        "In the above **interactions matrix**, out of users B and C, which user is most likely to interact with the movie, \"The Terminal\"?"
      ]
    },
    {
      "cell_type": "markdown",
      "metadata": {
        "id": "QoSujZuuvOOK"
      },
      "source": [
        "In this type of recommendation system, `we do not need any information` about the users or items. We only need user item interaction data to build a collaborative recommendation system. For example - \n",
        "<ol>\n",
        "    <li><b>Ratings</b> provided by users. For example - ratings of books on goodread, movie ratings on imdb etc</li>\n",
        "    <li><b>Likes</b> of users on different facebook posts, likes on youtube videos</li>\n",
        "    <li><b>Use/buying</b> of a product by users. For example - buying different items on e-commerce sites</li>\n",
        "    <li><b>Reading</b> of articles by readers on various blogs</li>\n",
        "</ol>"
      ]
    },
    {
      "cell_type": "markdown",
      "metadata": {
        "id": "A_3GtPzuvOOK"
      },
      "source": [
        "**Types of Collaborative Filtering**"
      ]
    },
    {
      "cell_type": "markdown",
      "metadata": {
        "id": "igZX3WbqvOOK"
      },
      "source": [
        "- Similarity/Neighborhood based\n",
        "\n",
        " * User-User Similarity Based  \n",
        " * Item-Item similarity based\n",
        "\n",
        "- Model based"
      ]
    },
    {
      "cell_type": "markdown",
      "metadata": {
        "id": "0D3MuFHqvOOK"
      },
      "source": [
        "#### **Building Similarity/Neighborhood based Collaborative Filtering**"
      ]
    },
    {
      "cell_type": "markdown",
      "metadata": {
        "id": "vyCEv8eJvOOK"
      },
      "source": [
        "![test_image](https://raw.githubusercontent.com/GL-ACADOPS/RS-IMAGES/main/cosine.PNG)"
      ]
    },
    {
      "cell_type": "markdown",
      "metadata": {
        "id": "skzc0N1_nVNB"
      },
      "source": [
        "### **Building a baseline user-user similarity based recommendation system**"
      ]
    },
    {
      "cell_type": "markdown",
      "metadata": {
        "id": "d4Uo_MYMnVNB"
      },
      "source": [
        "- Below, we are building **similarity-based recommendation systems** using `cosine` similarity and using **KNN to find similar users** which are the nearest neighbor to the given user.  \n",
        "- We will be using a new library, called `surprise`, to build the remaining models. Let's first import the necessary classes and functions from this library."
      ]
    },
    {
      "cell_type": "markdown",
      "metadata": {
        "id": "8hxjJMTwnVNB"
      },
      "source": [
        "Below we are loading the **`rating` dataset**, which is a **pandas DataFrame**, into a **different format called `surprise.dataset.DatasetAutoFolds`**, which is required by this library. To do this, we will be **using the classes `Reader` and `Dataset`**. Finally splitting the data into train and test set."
      ]
    },
    {
      "cell_type": "markdown",
      "metadata": {
        "id": "n3PpFZlW0q_d"
      },
      "source": [
        "#### **Making the dataset into surprise dataset and splitting it into train and test set**"
      ]
    },
    {
      "cell_type": "code",
      "execution_count": 24,
      "metadata": {
        "id": "rGfYDiOCpe4X"
      },
      "outputs": [],
      "source": [
        "# Instantiating Reader scale with expected rating scale\n",
        "reader = Reader(rating_scale=(0, 5))\n",
        "\n",
        "# Loading the rating dataset\n",
        "data = Dataset.load_from_df(rating[['userId', 'movieId', 'rating']], reader)\n",
        "\n",
        "# Splitting the data into train and test dataset\n",
        "trainset, testset = train_test_split(data, test_size=0.2, random_state=42)"
      ]
    },
    {
      "cell_type": "markdown",
      "metadata": {
        "id": "DmHTEt7TnVNC"
      },
      "source": [
        "#### **Build the first baseline similarity based recommendation system using cosine similarity and KNN**"
      ]
    },
    {
      "cell_type": "code",
      "execution_count": 25,
      "metadata": {
        "id": "vO3FL7iape8A"
      },
      "outputs": [
        {
          "name": "stdout",
          "output_type": "stream",
          "text": [
            "RMSE: 0.9925\n"
          ]
        },
        {
          "data": {
            "text/plain": [
              "0.9924509041520163"
            ]
          },
          "execution_count": 25,
          "metadata": {},
          "output_type": "execute_result"
        }
      ],
      "source": [
        "# Remove _______ and complete the code\n",
        "\n",
        "sim_options = {'name': 'cosine',\n",
        "               'user_based' : True}\n",
        "\n",
        "# Defining Nearest neighbour algorithm\n",
        "algo_knn_user = KNNBasic(sim_options=sim_options, verbose = False)\n",
        "\n",
        "# Train the algorithm on the trainset or fitting the model on train dataset \n",
        "algo_knn_user.fit(trainset)\n",
        "\n",
        "# Predict ratings for the testset\n",
        "predictions = algo_knn_user.test(testset)\n",
        "\n",
        "# Then compute RMSE\n",
        "accuracy.rmse(predictions)"
      ]
    },
    {
      "cell_type": "markdown",
      "metadata": {
        "id": "6y7zChf8wIBr"
      },
      "source": [
        "### **Q 3.1 What is the RMSE for baseline user based collaborative filtering recommendation system? (1 Mark)**"
      ]
    },
    {
      "attachments": {},
      "cell_type": "markdown",
      "metadata": {
        "id": "yE5kvdZenVNC"
      },
      "source": [
        "**Write your Answer here:**\n",
        "\n",
        "- the baseline model has RMSE=0.9924 on test set."
      ]
    },
    {
      "cell_type": "markdown",
      "metadata": {
        "id": "qelE7GyrwIBs"
      },
      "source": [
        "### **Q 3.2 What is the Predicted  rating for an user with userId=4 and for movieId=10 and movieId=3? (1 Mark)**"
      ]
    },
    {
      "cell_type": "markdown",
      "metadata": {
        "id": "reFD0-nsnVNC"
      },
      "source": [
        "Let's us now predict rating for an user with `userId=4` and for `movieId=10`"
      ]
    },
    {
      "cell_type": "code",
      "execution_count": 26,
      "metadata": {
        "id": "Sxd23bZ9pe_x"
      },
      "outputs": [
        {
          "name": "stdout",
          "output_type": "stream",
          "text": [
            "user: 4          item: 10         r_ui = 4.00   est = 3.62   {'actual_k': 40, 'was_impossible': False}\n"
          ]
        },
        {
          "data": {
            "text/plain": [
              "Prediction(uid=4, iid=10, r_ui=4, est=3.6244912065910952, details={'actual_k': 40, 'was_impossible': False})"
            ]
          },
          "execution_count": 26,
          "metadata": {},
          "output_type": "execute_result"
        }
      ],
      "source": [
        "# Remove _______ and complete the code\n",
        "algo_knn_user.predict(4, 10, r_ui=4, verbose=True)"
      ]
    },
    {
      "attachments": {},
      "cell_type": "markdown",
      "metadata": {
        "id": "QuVbIR3SnVNE"
      },
      "source": [
        "- As we can see - the actual rating for this user-movie pair is 4 and predicted rating is 3.62 by this similarity based baseline model"
      ]
    },
    {
      "cell_type": "markdown",
      "metadata": {
        "id": "EXSgq8OEnVNE"
      },
      "source": [
        "Let's predict the rating for the same `userId=4` but for a movie which this user has not interacted before i.e. `movieId=3`"
      ]
    },
    {
      "cell_type": "code",
      "execution_count": 27,
      "metadata": {
        "id": "PbFcBj1PpfEV"
      },
      "outputs": [
        {
          "name": "stdout",
          "output_type": "stream",
          "text": [
            "user: 4          item: 3          r_ui = None   est = 3.20   {'actual_k': 40, 'was_impossible': False}\n"
          ]
        },
        {
          "data": {
            "text/plain": [
              "Prediction(uid=4, iid=3, r_ui=None, est=3.202703552548654, details={'actual_k': 40, 'was_impossible': False})"
            ]
          },
          "execution_count": 27,
          "metadata": {},
          "output_type": "execute_result"
        }
      ],
      "source": [
        "# Remove _______ and complete the code\n",
        "algo_knn_user.predict(4, 3, verbose=True)"
      ]
    },
    {
      "attachments": {},
      "cell_type": "markdown",
      "metadata": {
        "id": "cm2xqtcQnVNE"
      },
      "source": [
        "- based on the similarity based baseline model, The estimated rating for the user-movie pair is 3.2"
      ]
    },
    {
      "cell_type": "markdown",
      "metadata": {
        "id": "ejjof6csnVNF"
      },
      "source": [
        "### **Improving user-user similarity based recommendation system by tuning its hyper-parameters**"
      ]
    },
    {
      "cell_type": "markdown",
      "metadata": {
        "id": "x_kxe-_JnVNF"
      },
      "source": [
        "Below we will be tuning hyper-parmeters for the `KNNBasic` algorithms. Let's try to understand different hyperparameters of KNNBasic algorithm - "
      ]
    },
    {
      "cell_type": "markdown",
      "metadata": {
        "id": "p2j4VvfQnVNF"
      },
      "source": [
        "- **k** (int) – The (max) number of neighbors to take into account for aggregation (see this note). Default is 40.\n",
        "- **min_k** (int) – The minimum number of neighbors to take into account for aggregation. If there are not enough neighbors, the prediction is set to the global mean of all ratings. Default is 1.\n",
        "- **sim_options** (dict) – A dictionary of options for the similarity measure. And there are four similarity measures available in surprise - \n",
        "    - cosine\n",
        "    - msd (default)\n",
        "    - pearson\n",
        "    - pearson baseline\n",
        "    \n",
        "For more details please refer the official documentation https://surprise.readthedocs.io/en/stable/knn_inspired.html"
      ]
    },
    {
      "cell_type": "markdown",
      "metadata": {
        "id": "lTLnYn_JwIBx"
      },
      "source": [
        "### **Q 3.3 Perform hyperparameter tuning for the baseline user based collaborative filtering recommendation system and find the RMSE for tuned user based collaborative filtering recommendation system? (3 Marks)**"
      ]
    },
    {
      "cell_type": "code",
      "execution_count": 29,
      "metadata": {
        "id": "KpGhU15gpfHg"
      },
      "outputs": [
        {
          "name": "stdout",
          "output_type": "stream",
          "text": [
            "Computing the msd similarity matrix...\n",
            "Computing the msd similarity matrix...\n",
            "Done computing similarity matrix.\n",
            "Computing the msd similarity matrix...\n",
            "Done computing similarity matrix.\n",
            "Computing the cosine similarity matrix...\n",
            "Done computing similarity matrix.\n",
            "Done computing similarity matrix.\n",
            "Computing the cosine similarity matrix...\n",
            "Done computing similarity matrix.\n",
            "Computing the cosine similarity matrix...\n",
            "Done computing similarity matrix.\n",
            "Computing the msd similarity matrix...\n",
            "Done computing similarity matrix.\n",
            "Computing the msd similarity matrix...\n",
            "Done computing similarity matrix.\n",
            "Computing the msd similarity matrix...\n",
            "Computing the cosine similarity matrix...\n",
            "Done computing similarity matrix.\n",
            "Done computing similarity matrix.\n",
            "Computing the cosine similarity matrix...\n",
            "Computing the cosine similarity matrix...\n",
            "Done computing similarity matrix.\n",
            "Done computing similarity matrix.\n",
            "Computing the msd similarity matrix...\n",
            "Done computing similarity matrix.\n",
            "Computing the msd similarity matrix...\n",
            "Done computing similarity matrix.\n",
            "Computing the msd similarity matrix...\n",
            "Done computing similarity matrix.\n",
            "Computing the cosine similarity matrix...\n",
            "Done computing similarity matrix.\n",
            "Computing the cosine similarity matrix...\n",
            "Computing the cosine similarity matrix...\n",
            "Done computing similarity matrix.\n",
            "Computing the msd similarity matrix...\n",
            "Done computing similarity matrix.\n",
            "Done computing similarity matrix.\n",
            "Computing the msd similarity matrix...\n",
            "Done computing similarity matrix.\n",
            "Computing the msd similarity matrix...\n",
            "Computing the cosine similarity matrix...\n",
            "Done computing similarity matrix.\n",
            "Computing the cosine similarity matrix...\n",
            "Done computing similarity matrix.\n",
            "Done computing similarity matrix.\n",
            "Computing the cosine similarity matrix...\n",
            "Done computing similarity matrix.\n",
            "Computing the msd similarity matrix...\n",
            "Computing the msd similarity matrix...\n",
            "Done computing similarity matrix.\n",
            "Done computing similarity matrix.\n",
            "Computing the msd similarity matrix...\n",
            "Done computing similarity matrix.\n",
            "Computing the cosine similarity matrix...\n",
            "Done computing similarity matrix.\n",
            "Computing the cosine similarity matrix...\n",
            "Computing the cosine similarity matrix...\n",
            "Done computing similarity matrix.\n",
            "Done computing similarity matrix.\n",
            "Computing the msd similarity matrix...\n",
            "Done computing similarity matrix.\n",
            "Computing the msd similarity matrix...\n",
            "Done computing similarity matrix.\n",
            "Computing the msd similarity matrix...\n",
            "Done computing similarity matrix.\n",
            "Computing the cosine similarity matrix...\n",
            "Done computing similarity matrix.\n",
            "Computing the cosine similarity matrix...\n",
            "Done computing similarity matrix.\n",
            "Computing the cosine similarity matrix...\n",
            "Done computing similarity matrix.\n",
            "Computing the msd similarity matrix...\n",
            "Computing the msd similarity matrix...\n",
            "Done computing similarity matrix.\n",
            "Computing the msd similarity matrix...\n",
            "Done computing similarity matrix.\n",
            "Done computing similarity matrix.\n",
            "Computing the cosine similarity matrix...\n",
            "Done computing similarity matrix.\n",
            "Computing the cosine similarity matrix...\n",
            "Computing the cosine similarity matrix...\n",
            "Done computing similarity matrix.\n",
            "Done computing similarity matrix.\n",
            "Computing the msd similarity matrix...\n",
            "Done computing similarity matrix.\n",
            "Computing the msd similarity matrix...\n",
            "Done computing similarity matrix.\n",
            "Computing the msd similarity matrix...\n",
            "Computing the cosine similarity matrix...\n",
            "Done computing similarity matrix.\n",
            "Computing the cosine similarity matrix...\n",
            "Done computing similarity matrix.\n",
            "Done computing similarity matrix.\n",
            "Computing the cosine similarity matrix...\n",
            "Computing the msd similarity matrix...\n",
            "Done computing similarity matrix.\n",
            "Done computing similarity matrix.\n",
            "Computing the msd similarity matrix...\n",
            "Done computing similarity matrix.\n",
            "Computing the msd similarity matrix...\n",
            "Done computing similarity matrix.\n",
            "Computing the cosine similarity matrix...\n",
            "Done computing similarity matrix.\n",
            "Computing the cosine similarity matrix...\n",
            "Computing the cosine similarity matrix...\n",
            "Done computing similarity matrix.\n",
            "Done computing similarity matrix.\n",
            "0.9646259782062044\n",
            "{'k': 20, 'min_k': 3, 'sim_options': {'name': 'msd', 'user_based': True}}\n"
          ]
        }
      ],
      "source": [
        "# Remove _______ and complete the code\n",
        "\n",
        "# Setting up parameter grid to tune the hyperparameters\n",
        "param_grid = {'k': [20,30,40], 'min_k': [3,6,9],\n",
        "               'sim_options': {'name': ['msd', 'cosine'],\n",
        "               'user_based': [True]}}\n",
        "\n",
        "# Performing 3-fold cross validation to tune the hyperparameters\n",
        "grid_obj = GridSearchCV(KNNBasic, param_grid, measures=['rmse', 'mae'], cv=3, n_jobs=-1)\n",
        "\n",
        "# Fitting the data\n",
        "grid_obj.fit(data)\n",
        "\n",
        "# Best RMSE score\n",
        "print(grid_obj.best_score['rmse'])\n",
        "\n",
        "# Combination of parameters that gave the best RMSE score\n",
        "print(grid_obj.best_params['rmse'])"
      ]
    },
    {
      "cell_type": "markdown",
      "metadata": {
        "id": "L2fHNvu7nVNF"
      },
      "source": [
        "Once the grid search is **complete**, we can get the **optimal values for each of those hyperparameters** as shown above."
      ]
    },
    {
      "cell_type": "markdown",
      "metadata": {
        "id": "h_K6yd6XnVNF"
      },
      "source": [
        "Below we are analysing evaluation metrics - RMSE and MAE at each and every split to analyze the impact of each value of hyperparameters"
      ]
    },
    {
      "cell_type": "code",
      "execution_count": 30,
      "metadata": {
        "id": "TzJxk_Z4q1A8"
      },
      "outputs": [
        {
          "data": {
            "text/html": [
              "<div>\n",
              "<style scoped>\n",
              "    .dataframe tbody tr th:only-of-type {\n",
              "        vertical-align: middle;\n",
              "    }\n",
              "\n",
              "    .dataframe tbody tr th {\n",
              "        vertical-align: top;\n",
              "    }\n",
              "\n",
              "    .dataframe thead th {\n",
              "        text-align: right;\n",
              "    }\n",
              "</style>\n",
              "<table border=\"1\" class=\"dataframe\">\n",
              "  <thead>\n",
              "    <tr style=\"text-align: right;\">\n",
              "      <th></th>\n",
              "      <th>split0_test_rmse</th>\n",
              "      <th>split1_test_rmse</th>\n",
              "      <th>split2_test_rmse</th>\n",
              "      <th>mean_test_rmse</th>\n",
              "      <th>std_test_rmse</th>\n",
              "      <th>rank_test_rmse</th>\n",
              "      <th>split0_test_mae</th>\n",
              "      <th>split1_test_mae</th>\n",
              "      <th>split2_test_mae</th>\n",
              "      <th>mean_test_mae</th>\n",
              "      <th>std_test_mae</th>\n",
              "      <th>rank_test_mae</th>\n",
              "      <th>mean_fit_time</th>\n",
              "      <th>std_fit_time</th>\n",
              "      <th>mean_test_time</th>\n",
              "      <th>std_test_time</th>\n",
              "      <th>params</th>\n",
              "      <th>param_k</th>\n",
              "      <th>param_min_k</th>\n",
              "      <th>param_sim_options</th>\n",
              "    </tr>\n",
              "  </thead>\n",
              "  <tbody>\n",
              "    <tr>\n",
              "      <th>0</th>\n",
              "      <td>0.966532</td>\n",
              "      <td>0.967888</td>\n",
              "      <td>0.959458</td>\n",
              "      <td>0.964626</td>\n",
              "      <td>0.003696</td>\n",
              "      <td>1</td>\n",
              "      <td>0.743390</td>\n",
              "      <td>0.743449</td>\n",
              "      <td>0.738705</td>\n",
              "      <td>0.741848</td>\n",
              "      <td>0.002223</td>\n",
              "      <td>1</td>\n",
              "      <td>0.068388</td>\n",
              "      <td>0.008233</td>\n",
              "      <td>1.184296</td>\n",
              "      <td>0.018953</td>\n",
              "      <td>{'k': 20, 'min_k': 3, 'sim_options': {'name': ...</td>\n",
              "      <td>20</td>\n",
              "      <td>3</td>\n",
              "      <td>{'name': 'msd', 'user_based': True}</td>\n",
              "    </tr>\n",
              "    <tr>\n",
              "      <th>1</th>\n",
              "      <td>0.996202</td>\n",
              "      <td>0.997241</td>\n",
              "      <td>0.988302</td>\n",
              "      <td>0.993915</td>\n",
              "      <td>0.003991</td>\n",
              "      <td>14</td>\n",
              "      <td>0.769805</td>\n",
              "      <td>0.770608</td>\n",
              "      <td>0.764896</td>\n",
              "      <td>0.768436</td>\n",
              "      <td>0.002525</td>\n",
              "      <td>12</td>\n",
              "      <td>0.053699</td>\n",
              "      <td>0.009375</td>\n",
              "      <td>1.261041</td>\n",
              "      <td>0.078426</td>\n",
              "      <td>{'k': 20, 'min_k': 3, 'sim_options': {'name': ...</td>\n",
              "      <td>20</td>\n",
              "      <td>3</td>\n",
              "      <td>{'name': 'cosine', 'user_based': True}</td>\n",
              "    </tr>\n",
              "    <tr>\n",
              "      <th>2</th>\n",
              "      <td>0.969110</td>\n",
              "      <td>0.971205</td>\n",
              "      <td>0.963988</td>\n",
              "      <td>0.968101</td>\n",
              "      <td>0.003031</td>\n",
              "      <td>3</td>\n",
              "      <td>0.745023</td>\n",
              "      <td>0.746462</td>\n",
              "      <td>0.742055</td>\n",
              "      <td>0.744514</td>\n",
              "      <td>0.001835</td>\n",
              "      <td>3</td>\n",
              "      <td>0.040217</td>\n",
              "      <td>0.013597</td>\n",
              "      <td>1.198865</td>\n",
              "      <td>0.048414</td>\n",
              "      <td>{'k': 20, 'min_k': 6, 'sim_options': {'name': ...</td>\n",
              "      <td>20</td>\n",
              "      <td>6</td>\n",
              "      <td>{'name': 'msd', 'user_based': True}</td>\n",
              "    </tr>\n",
              "    <tr>\n",
              "      <th>3</th>\n",
              "      <td>0.997310</td>\n",
              "      <td>0.999021</td>\n",
              "      <td>0.991574</td>\n",
              "      <td>0.995968</td>\n",
              "      <td>0.003185</td>\n",
              "      <td>15</td>\n",
              "      <td>0.770372</td>\n",
              "      <td>0.772310</td>\n",
              "      <td>0.767197</td>\n",
              "      <td>0.769960</td>\n",
              "      <td>0.002108</td>\n",
              "      <td>15</td>\n",
              "      <td>0.066337</td>\n",
              "      <td>0.010722</td>\n",
              "      <td>1.129475</td>\n",
              "      <td>0.074297</td>\n",
              "      <td>{'k': 20, 'min_k': 6, 'sim_options': {'name': ...</td>\n",
              "      <td>20</td>\n",
              "      <td>6</td>\n",
              "      <td>{'name': 'cosine', 'user_based': True}</td>\n",
              "    </tr>\n",
              "    <tr>\n",
              "      <th>4</th>\n",
              "      <td>0.974840</td>\n",
              "      <td>0.978181</td>\n",
              "      <td>0.971766</td>\n",
              "      <td>0.974929</td>\n",
              "      <td>0.002620</td>\n",
              "      <td>7</td>\n",
              "      <td>0.749616</td>\n",
              "      <td>0.752636</td>\n",
              "      <td>0.748301</td>\n",
              "      <td>0.750184</td>\n",
              "      <td>0.001815</td>\n",
              "      <td>7</td>\n",
              "      <td>0.041211</td>\n",
              "      <td>0.006149</td>\n",
              "      <td>1.194134</td>\n",
              "      <td>0.085914</td>\n",
              "      <td>{'k': 20, 'min_k': 9, 'sim_options': {'name': ...</td>\n",
              "      <td>20</td>\n",
              "      <td>9</td>\n",
              "      <td>{'name': 'msd', 'user_based': True}</td>\n",
              "    </tr>\n",
              "  </tbody>\n",
              "</table>\n",
              "</div>"
            ],
            "text/plain": [
              "   split0_test_rmse  split1_test_rmse  split2_test_rmse  mean_test_rmse  \\\n",
              "0          0.966532          0.967888          0.959458        0.964626   \n",
              "1          0.996202          0.997241          0.988302        0.993915   \n",
              "2          0.969110          0.971205          0.963988        0.968101   \n",
              "3          0.997310          0.999021          0.991574        0.995968   \n",
              "4          0.974840          0.978181          0.971766        0.974929   \n",
              "\n",
              "   std_test_rmse  rank_test_rmse  split0_test_mae  split1_test_mae  \\\n",
              "0       0.003696               1         0.743390         0.743449   \n",
              "1       0.003991              14         0.769805         0.770608   \n",
              "2       0.003031               3         0.745023         0.746462   \n",
              "3       0.003185              15         0.770372         0.772310   \n",
              "4       0.002620               7         0.749616         0.752636   \n",
              "\n",
              "   split2_test_mae  mean_test_mae  std_test_mae  rank_test_mae  mean_fit_time  \\\n",
              "0         0.738705       0.741848      0.002223              1       0.068388   \n",
              "1         0.764896       0.768436      0.002525             12       0.053699   \n",
              "2         0.742055       0.744514      0.001835              3       0.040217   \n",
              "3         0.767197       0.769960      0.002108             15       0.066337   \n",
              "4         0.748301       0.750184      0.001815              7       0.041211   \n",
              "\n",
              "   std_fit_time  mean_test_time  std_test_time  \\\n",
              "0      0.008233        1.184296       0.018953   \n",
              "1      0.009375        1.261041       0.078426   \n",
              "2      0.013597        1.198865       0.048414   \n",
              "3      0.010722        1.129475       0.074297   \n",
              "4      0.006149        1.194134       0.085914   \n",
              "\n",
              "                                              params  param_k  param_min_k  \\\n",
              "0  {'k': 20, 'min_k': 3, 'sim_options': {'name': ...       20            3   \n",
              "1  {'k': 20, 'min_k': 3, 'sim_options': {'name': ...       20            3   \n",
              "2  {'k': 20, 'min_k': 6, 'sim_options': {'name': ...       20            6   \n",
              "3  {'k': 20, 'min_k': 6, 'sim_options': {'name': ...       20            6   \n",
              "4  {'k': 20, 'min_k': 9, 'sim_options': {'name': ...       20            9   \n",
              "\n",
              "                        param_sim_options  \n",
              "0     {'name': 'msd', 'user_based': True}  \n",
              "1  {'name': 'cosine', 'user_based': True}  \n",
              "2     {'name': 'msd', 'user_based': True}  \n",
              "3  {'name': 'cosine', 'user_based': True}  \n",
              "4     {'name': 'msd', 'user_based': True}  "
            ]
          },
          "execution_count": 30,
          "metadata": {},
          "output_type": "execute_result"
        }
      ],
      "source": [
        "results_df = pd.DataFrame.from_dict(grid_obj.cv_results)\n",
        "results_df.head()"
      ]
    },
    {
      "cell_type": "markdown",
      "metadata": {
        "id": "NHWgxu_YnVNG"
      },
      "source": [
        "Now, let's build the **final model by using tuned values of the hyperparameters**, which we received by using **grid search cross-validation**.\n",
        "\n"
      ]
    },
    {
      "cell_type": "code",
      "execution_count": 31,
      "metadata": {
        "id": "PujRJA8X_JEJ"
      },
      "outputs": [
        {
          "name": "stdout",
          "output_type": "stream",
          "text": [
            "RMSE: 0.9925\n"
          ]
        },
        {
          "data": {
            "text/plain": [
              "0.9924509041520163"
            ]
          },
          "execution_count": 31,
          "metadata": {},
          "output_type": "execute_result"
        }
      ],
      "source": [
        "# Remove _______ and complete the code\n",
        "# Using the optimal similarity measure for user-user based collaborative filtering\n",
        "sim_options = {'name': 'cosine',\n",
        "               'user_based': True}\n",
        "# Creating an instance of KNNBasic with optimal hyperparameter values\n",
        "similarity_algo_optimized_user = KNNBasic(sim_options = sim_options,verbose=False)\n",
        "\n",
        "# Training the algorithm on the trainset\n",
        "similarity_algo_optimized_user.fit(trainset)\n",
        "\n",
        "# Predicting ratings for the testset\n",
        "predictions = similarity_algo_optimized_user.test(testset)\n",
        "\n",
        "# Computing RMSE on testset\n",
        "accuracy.rmse(predictions)"
      ]
    },
    {
      "attachments": {},
      "cell_type": "markdown",
      "metadata": {
        "id": "YA37vQ6qnVNG"
      },
      "source": [
        "- We can see from above that after tuning hyperparameters, RMSE for testset has no significant difference as both sets result in 0.992.\n",
        "- this concludes that it does not improve the model"
      ]
    },
    {
      "cell_type": "markdown",
      "metadata": {
        "id": "3gZQybgVwIB1"
      },
      "source": [
        "### **Q 3.4 What is the Predicted rating for an user with userId =4 and for movieId= 10 and movieId=3 using tuned user based collaborative filtering? (1 Mark)**"
      ]
    },
    {
      "cell_type": "markdown",
      "metadata": {
        "id": "YhcAXK0CnVNG"
      },
      "source": [
        "Let's us now predict rating for an user with `userId=4` and for `movieId=10` with the optimized model"
      ]
    },
    {
      "cell_type": "code",
      "execution_count": 32,
      "metadata": {
        "id": "FgV63lHiq1TV"
      },
      "outputs": [
        {
          "name": "stdout",
          "output_type": "stream",
          "text": [
            "user: 4          item: 10         r_ui = 4.00   est = 3.62   {'actual_k': 40, 'was_impossible': False}\n"
          ]
        },
        {
          "data": {
            "text/plain": [
              "Prediction(uid=4, iid=10, r_ui=4, est=3.6244912065910952, details={'actual_k': 40, 'was_impossible': False})"
            ]
          },
          "execution_count": 32,
          "metadata": {},
          "output_type": "execute_result"
        }
      ],
      "source": [
        "# Remove _______ and complete the code\n",
        "similarity_algo_optimized_user.predict(4,10, r_ui=4, verbose=True)"
      ]
    },
    {
      "attachments": {},
      "cell_type": "markdown",
      "metadata": {
        "id": "AMBeqeUtnVNG"
      },
      "source": [
        "- If we compare the baseline model with a predicted rating of 3.62 and the optimized model predicted the rating as 3.62, it also displays that our model has not improved overall."
      ]
    },
    {
      "cell_type": "markdown",
      "metadata": {
        "id": "P1JLqz6mnVNH"
      },
      "source": [
        "Below we are predicting rating for the same `userId=4` but for a movie which this user has not interacted before i.e. `movieId=3`, by using the optimized model as shown below - "
      ]
    },
    {
      "cell_type": "code",
      "execution_count": 186,
      "metadata": {
        "id": "HXO2Ztjhq1bN"
      },
      "outputs": [
        {
          "name": "stdout",
          "output_type": "stream",
          "text": [
            "user: 4          item: 3          r_ui = None   est = 3.20   {'actual_k': 40, 'was_impossible': False}\n"
          ]
        },
        {
          "data": {
            "text/plain": [
              "Prediction(uid=4, iid=3, r_ui=None, est=3.202703552548654, details={'actual_k': 40, 'was_impossible': False})"
            ]
          },
          "execution_count": 186,
          "metadata": {},
          "output_type": "execute_result"
        }
      ],
      "source": [
        "# Remove _______ and complete the code\n",
        "similarity_algo_optimized_user.predict(4,3, verbose=True)"
      ]
    },
    {
      "attachments": {},
      "cell_type": "markdown",
      "metadata": {
        "id": "PN_tYvepnVNH"
      },
      "source": [
        "Once again the baseline model predicts a 3.20 which is the same as our user based model. implying an insignificant change."
      ]
    },
    {
      "cell_type": "markdown",
      "metadata": {
        "id": "o2QsfqhanVNH"
      },
      "source": [
        "### **Identifying similar users to a given user (nearest neighbors)**\n",
        "\n",
        "We can also find out the similar users to a given user or its nearest neighbors based on this KNNBasic algorithm. Below we are finding 5 most similar user to the `userId=4` based on the `msd` distance metric"
      ]
    },
    {
      "cell_type": "code",
      "execution_count": 33,
      "metadata": {
        "id": "evkmTb6P5HYO"
      },
      "outputs": [
        {
          "data": {
            "text/plain": [
              "[357, 220, 590, 491, 647]"
            ]
          },
          "execution_count": 33,
          "metadata": {},
          "output_type": "execute_result"
        }
      ],
      "source": [
        "similarity_algo_optimized_user.get_neighbors(4, k=5)"
      ]
    },
    {
      "cell_type": "markdown",
      "metadata": {
        "id": "Z0NsrX_anVNH"
      },
      "source": [
        "### **Implementing the recommendation algorithm based on optimized KNNBasic model**"
      ]
    },
    {
      "cell_type": "markdown",
      "metadata": {
        "id": "U3ESobDynVNI"
      },
      "source": [
        "Below we will be implementing a function where the input parameters are - \n",
        "\n",
        "- data: a rating dataset\n",
        "- user_id: an user id against which we want the recommendations\n",
        "- top_n: the number of movies we want to recommend\n",
        "- algo: the algorithm we want to use to predict the ratings"
      ]
    },
    {
      "cell_type": "code",
      "execution_count": 34,
      "metadata": {
        "id": "vW9V1Tk65HlY"
      },
      "outputs": [],
      "source": [
        "def get_recommendations(data, user_id, top_n, algo):\n",
        "    \n",
        "    # Creating an empty list to store the recommended movie ids\n",
        "    recommendations = []\n",
        "    \n",
        "    # Creating an user item interactions matrix \n",
        "    user_item_interactions_matrix = data.pivot(index='userId', columns='movieId', values='rating')\n",
        "    \n",
        "    # Extracting those movie ids which the user_id has not interacted yet\n",
        "    non_interacted_movies = user_item_interactions_matrix.loc[user_id][user_item_interactions_matrix.loc[user_id].isnull()].index.tolist()\n",
        "    \n",
        "    # Looping through each of the movie id which user_id has not interacted yet\n",
        "    for item_id in non_interacted_movies:\n",
        "        \n",
        "        # Predicting the ratings for those non interacted movie ids by this user\n",
        "        est = algo.predict(user_id, item_id).est\n",
        "        \n",
        "        # Appending the predicted ratings\n",
        "        recommendations.append((item_id, est))\n",
        "\n",
        "    # Sorting the predicted ratings in descending order\n",
        "    recommendations.sort(key=lambda x: x[1], reverse=True)\n",
        "\n",
        "    return recommendations[:top_n] # returing top n highest predicted rating movies for this user"
      ]
    },
    {
      "cell_type": "markdown",
      "metadata": {
        "id": "Oj_S7kh4nVNI"
      },
      "source": [
        "#### **Predicted top 5 movies for userId=4 with similarity based recommendation system**"
      ]
    },
    {
      "cell_type": "code",
      "execution_count": 35,
      "metadata": {
        "id": "qWbR85mI5Hrk"
      },
      "outputs": [],
      "source": [
        "recommendations = get_recommendations(rating,4,5,similarity_algo_optimized_user)"
      ]
    },
    {
      "cell_type": "markdown",
      "metadata": {
        "id": "33GchLEiwICA"
      },
      "source": [
        "### **Q 3.5 Predict the top 5 movies for userId=4 with similarity based recommendation system (1 Mark)**"
      ]
    },
    {
      "cell_type": "code",
      "execution_count": 36,
      "metadata": {
        "id": "b5WfIX0Z6_q2"
      },
      "outputs": [
        {
          "data": {
            "text/plain": [
              "[(53, 5), (183, 5), (301, 5), (309, 5), (363, 5)]"
            ]
          },
          "execution_count": 36,
          "metadata": {},
          "output_type": "execute_result"
        }
      ],
      "source": [
        "recommendations"
      ]
    },
    {
      "cell_type": "markdown",
      "metadata": {
        "id": "pqm4J6aQwICB"
      },
      "source": [
        "## **Model 3: Item based Collaborative Filtering Recommendation System (7 Marks)**"
      ]
    },
    {
      "cell_type": "code",
      "execution_count": 37,
      "metadata": {
        "id": "fa8W64l5wICB"
      },
      "outputs": [
        {
          "name": "stdout",
          "output_type": "stream",
          "text": [
            "RMSE: 1.0032\n"
          ]
        },
        {
          "data": {
            "text/plain": [
              "1.003221450633729"
            ]
          },
          "execution_count": 37,
          "metadata": {},
          "output_type": "execute_result"
        }
      ],
      "source": [
        "# Definfing similarity measure\n",
        "sim_options = {'name': 'cosine',\n",
        "               'user_based': False}\n",
        "\n",
        "# Defining Nearest neighbour algorithm\n",
        "algo_knn_item = KNNBasic(sim_options= sim_options,verbose=False)\n",
        "\n",
        "# Train the algorithm on the trainset or fitting the model on train dataset \n",
        "algo_knn_item.fit(trainset)\n",
        "\n",
        "# Predict ratings for the testset\n",
        "predictions = algo_knn_item.test(testset)\n",
        "\n",
        "# Then compute RMSE\n",
        "accuracy.rmse(predictions)"
      ]
    },
    {
      "cell_type": "markdown",
      "metadata": {
        "id": "oW6HXjoVwICC"
      },
      "source": [
        "### **Q 4.1 What is the RMSE for baseline item based collaborative filtering recommendation system ?(1 Mark)**"
      ]
    },
    {
      "attachments": {},
      "cell_type": "markdown",
      "metadata": {
        "id": "dsagkpFDwICD"
      },
      "source": [
        "- As we can see from above, the baseline model has RMSE=1.003 on test set\n",
        "\n"
      ]
    },
    {
      "cell_type": "markdown",
      "metadata": {
        "id": "uXRReHXt2UD8"
      },
      "source": [
        "Let's us now predict rating for an user with `userId=4` and for `movieId=10`"
      ]
    },
    {
      "cell_type": "markdown",
      "metadata": {
        "id": "egyW6VMYwICD"
      },
      "source": [
        "### **Q 4.2 What is the Predicted  rating for an user with userId =4 and for movieId= 10 and movieId=3? (1 Mark)**"
      ]
    },
    {
      "cell_type": "code",
      "execution_count": 38,
      "metadata": {
        "id": "RmzxmaDbwICE",
        "scrolled": true
      },
      "outputs": [
        {
          "name": "stdout",
          "output_type": "stream",
          "text": [
            "user: 4          item: 10         r_ui = 4.00   est = 4.37   {'actual_k': 40, 'was_impossible': False}\n",
            "user: 4          item: 3          r_ui = 4.00   est = 4.07   {'actual_k': 40, 'was_impossible': False}\n"
          ]
        },
        {
          "data": {
            "text/plain": [
              "Prediction(uid=4, iid=3, r_ui=4, est=4.071601862880049, details={'actual_k': 40, 'was_impossible': False})"
            ]
          },
          "execution_count": 38,
          "metadata": {},
          "output_type": "execute_result"
        }
      ],
      "source": [
        "# Remove _______ and complete the code\n",
        "algo_knn_item.predict(4,10, r_ui=4, verbose=True)\n",
        "algo_knn_item.predict(4,3, r_ui=4, verbose=True)"
      ]
    },
    {
      "attachments": {},
      "cell_type": "markdown",
      "metadata": {
        "id": "fyPeJdK6wICF"
      },
      "source": [
        "- as shown above the estimated rating for user liking movieId 10 is <b>4.37/5</b>\n",
        "- UserId 4 is estimated to rate movieId 3 <b>4.07/5</b>\n"
      ]
    },
    {
      "cell_type": "markdown",
      "metadata": {
        "id": "CTSx7Wl5wICG"
      },
      "source": [
        "Let's predict  the rating for the same `userId=4` but for a movie which this user has not interacted before i.e. `movieId=3`"
      ]
    },
    {
      "cell_type": "code",
      "execution_count": 39,
      "metadata": {
        "id": "-l8G1XG5wICG"
      },
      "outputs": [
        {
          "name": "stdout",
          "output_type": "stream",
          "text": [
            "user: 4          item: 3          r_ui = None   est = 4.07   {'actual_k': 40, 'was_impossible': False}\n"
          ]
        },
        {
          "data": {
            "text/plain": [
              "Prediction(uid=4, iid=3, r_ui=None, est=4.071601862880049, details={'actual_k': 40, 'was_impossible': False})"
            ]
          },
          "execution_count": 39,
          "metadata": {},
          "output_type": "execute_result"
        }
      ],
      "source": [
        "# Remove _______ and complete the code\n",
        "algo_knn_item.predict(4,3, verbose=True)"
      ]
    },
    {
      "attachments": {},
      "cell_type": "markdown",
      "metadata": {
        "id": "WKqI9IyhwICH"
      },
      "source": [
        "- According to the model User 4 will likely rate movieId 3 a <b>4.07/5</b>\n"
      ]
    },
    {
      "cell_type": "markdown",
      "metadata": {
        "id": "utHBZ67JwICI"
      },
      "source": [
        "### **Q 4.3 Perform hyperparameter tuning for the baseline item based collaborative filtering recommendation system and find the RMSE for tuned item based collaborative filtering recommendation system? (3 Marks)**"
      ]
    },
    {
      "cell_type": "code",
      "execution_count": 40,
      "metadata": {
        "id": "0ZmIvW--wICJ"
      },
      "outputs": [
        {
          "name": "stdout",
          "output_type": "stream",
          "text": [
            "Computing the msd similarity matrix...\n",
            "Computing the msd similarity matrix...\n",
            "Computing the msd similarity matrix...\n",
            "Computing the cosine similarity matrix...\n",
            "Computing the cosine similarity matrix...\n",
            "Computing the cosine similarity matrix...\n",
            "Computing the msd similarity matrix...\n",
            "Computing the msd similarity matrix...\n",
            "Done computing similarity matrix.\n",
            "Done computing similarity matrix.\n",
            "Done computing similarity matrix.\n",
            "Done computing similarity matrix.\n",
            "Done computing similarity matrix.\n",
            "Done computing similarity matrix.\n",
            "Done computing similarity matrix.\n",
            "Done computing similarity matrix.\n",
            "Computing the msd similarity matrix...\n",
            "Computing the cosine similarity matrix...\n",
            "Computing the cosine similarity matrix...\n",
            "Computing the cosine similarity matrix...\n",
            "Computing the msd similarity matrix...\n",
            "Done computing similarity matrix.\n",
            "Done computing similarity matrix.\n",
            "Computing the msd similarity matrix...\n",
            "Computing the msd similarity matrix...\n",
            "Computing the cosine similarity matrix...\n",
            "Done computing similarity matrix.\n",
            "Done computing similarity matrix.\n",
            "Computing the cosine similarity matrix...\n",
            "Computing the cosine similarity matrix...\n",
            "Done computing similarity matrix.\n",
            "Done computing similarity matrix.\n",
            "Done computing similarity matrix.\n",
            "Done computing similarity matrix.\n",
            "Computing the msd similarity matrix...\n",
            "Computing the msd similarity matrix...\n",
            "Computing the msd similarity matrix...\n",
            "Computing the cosine similarity matrix...\n",
            "Computing the cosine similarity matrix...\n",
            "Done computing similarity matrix.\n",
            "Done computing similarity matrix.\n",
            "Done computing similarity matrix.\n",
            "Done computing similarity matrix.\n",
            "Done computing similarity matrix.\n",
            "Computing the cosine similarity matrix...\n",
            "Computing the msd similarity matrix...\n",
            "Computing the msd similarity matrix...\n",
            "Computing the msd similarity matrix...\n",
            "Computing the cosine similarity matrix...\n",
            "Computing the cosine similarity matrix...\n",
            "Done computing similarity matrix.\n",
            "Done computing similarity matrix.\n",
            "Done computing similarity matrix.\n",
            "Done computing similarity matrix.\n",
            "Done computing similarity matrix.\n",
            "Done computing similarity matrix.\n",
            "Computing the cosine similarity matrix...\n",
            "Computing the msd similarity matrix...\n",
            "Computing the msd similarity matrix...\n",
            "Computing the msd similarity matrix...\n",
            "Done computing similarity matrix.\n",
            "Computing the cosine similarity matrix...\n",
            "Done computing similarity matrix.\n",
            "Done computing similarity matrix.\n",
            "Done computing similarity matrix.\n",
            "Computing the cosine similarity matrix...\n",
            "Done computing similarity matrix.\n",
            "Computing the cosine similarity matrix...\n",
            "Computing the msd similarity matrix...\n",
            "Done computing similarity matrix.\n",
            "Computing the msd similarity matrix...\n",
            "Computing the msd similarity matrix...\n",
            "Computing the cosine similarity matrix...\n",
            "Done computing similarity matrix.\n",
            "Done computing similarity matrix.\n",
            "Done computing similarity matrix.\n",
            "Done computing similarity matrix.\n",
            "Done computing similarity matrix.\n",
            "Computing the cosine similarity matrix...\n",
            "Done computing similarity matrix.\n",
            "Computing the cosine similarity matrix...\n",
            "Computing the msd similarity matrix...\n",
            "Done computing similarity matrix.\n",
            "Computing the msd similarity matrix...\n",
            "Computing the msd similarity matrix...\n",
            "Computing the cosine similarity matrix...\n",
            "Done computing similarity matrix.\n",
            "Computing the cosine similarity matrix...\n",
            "Done computing similarity matrix.\n",
            "Done computing similarity matrix.\n",
            "Computing the cosine similarity matrix...\n",
            "Done computing similarity matrix.\n",
            "Done computing similarity matrix.\n",
            "Computing the msd similarity matrix...\n",
            "Computing the msd similarity matrix...\n",
            "Computing the msd similarity matrix...\n",
            "Done computing similarity matrix.\n",
            "Done computing similarity matrix.\n",
            "Computing the cosine similarity matrix...\n",
            "Done computing similarity matrix.\n",
            "Done computing similarity matrix.\n",
            "Computing the cosine similarity matrix...\n",
            "Done computing similarity matrix.\n",
            "Done computing similarity matrix.\n",
            "Computing the cosine similarity matrix...\n",
            "Done computing similarity matrix.\n",
            "Done computing similarity matrix.\n",
            "Done computing similarity matrix.\n",
            "0.941288142363347\n",
            "{'k': 40, 'min_k': 3, 'sim_options': {'name': 'msd', 'user_based': False}}\n"
          ]
        }
      ],
      "source": [
        "# Remove _______ and complete the code\n",
        "\n",
        "# Setting up parameter grid to tune the hyperparameters\n",
        "param_grid = {'k': [20, 30, 40], 'min_k': [3,6,9], 'sim_options': {'name' : ['msd', 'cosine'],\n",
        "                                                                   'user_based': [False]}}\n",
        "\n",
        "# Performing 3-fold cross validation to tune the hyperparameters\n",
        "grid_obj = GridSearchCV(KNNBasic, param_grid, measures=['rmse', 'mae'], cv=3, n_jobs=-1)\n",
        "\n",
        "# Fitting the data\n",
        "grid_obj.fit(data)\n",
        "\n",
        "# Best RMSE score\n",
        "print(grid_obj.best_score['rmse'])\n",
        "\n",
        "# Combination of parameters that gave the best RMSE score\n",
        "print(grid_obj.best_params['rmse'])"
      ]
    },
    {
      "cell_type": "markdown",
      "metadata": {
        "id": "_uAej6IMwICK"
      },
      "source": [
        "Once the **grid search** is complete, we can get the **optimal values for each of those hyperparameters as shown above**"
      ]
    },
    {
      "cell_type": "markdown",
      "metadata": {
        "id": "2W3LQWA9wICK"
      },
      "source": [
        "Below we are analysing evaluation metrics - RMSE and MAE at each and every split to analyze the impact of each value of hyperparameters"
      ]
    },
    {
      "cell_type": "code",
      "execution_count": 41,
      "metadata": {
        "id": "ITKMae3LwICL",
        "scrolled": false
      },
      "outputs": [
        {
          "data": {
            "text/html": [
              "<div>\n",
              "<style scoped>\n",
              "    .dataframe tbody tr th:only-of-type {\n",
              "        vertical-align: middle;\n",
              "    }\n",
              "\n",
              "    .dataframe tbody tr th {\n",
              "        vertical-align: top;\n",
              "    }\n",
              "\n",
              "    .dataframe thead th {\n",
              "        text-align: right;\n",
              "    }\n",
              "</style>\n",
              "<table border=\"1\" class=\"dataframe\">\n",
              "  <thead>\n",
              "    <tr style=\"text-align: right;\">\n",
              "      <th></th>\n",
              "      <th>split0_test_rmse</th>\n",
              "      <th>split1_test_rmse</th>\n",
              "      <th>split2_test_rmse</th>\n",
              "      <th>mean_test_rmse</th>\n",
              "      <th>std_test_rmse</th>\n",
              "      <th>rank_test_rmse</th>\n",
              "      <th>split0_test_mae</th>\n",
              "      <th>split1_test_mae</th>\n",
              "      <th>split2_test_mae</th>\n",
              "      <th>mean_test_mae</th>\n",
              "      <th>std_test_mae</th>\n",
              "      <th>rank_test_mae</th>\n",
              "      <th>mean_fit_time</th>\n",
              "      <th>std_fit_time</th>\n",
              "      <th>mean_test_time</th>\n",
              "      <th>std_test_time</th>\n",
              "      <th>params</th>\n",
              "      <th>param_k</th>\n",
              "      <th>param_min_k</th>\n",
              "      <th>param_sim_options</th>\n",
              "    </tr>\n",
              "  </thead>\n",
              "  <tbody>\n",
              "    <tr>\n",
              "      <th>0</th>\n",
              "      <td>0.950005</td>\n",
              "      <td>0.953504</td>\n",
              "      <td>0.953503</td>\n",
              "      <td>0.952337</td>\n",
              "      <td>0.001649</td>\n",
              "      <td>7</td>\n",
              "      <td>0.732995</td>\n",
              "      <td>0.736407</td>\n",
              "      <td>0.736340</td>\n",
              "      <td>0.735247</td>\n",
              "      <td>0.001593</td>\n",
              "      <td>7</td>\n",
              "      <td>12.407956</td>\n",
              "      <td>0.151840</td>\n",
              "      <td>9.615959</td>\n",
              "      <td>0.237127</td>\n",
              "      <td>{'k': 20, 'min_k': 3, 'sim_options': {'name': ...</td>\n",
              "      <td>20</td>\n",
              "      <td>3</td>\n",
              "      <td>{'name': 'msd', 'user_based': False}</td>\n",
              "    </tr>\n",
              "    <tr>\n",
              "      <th>1</th>\n",
              "      <td>1.012080</td>\n",
              "      <td>1.014571</td>\n",
              "      <td>1.019947</td>\n",
              "      <td>1.015533</td>\n",
              "      <td>0.003283</td>\n",
              "      <td>16</td>\n",
              "      <td>0.789473</td>\n",
              "      <td>0.792267</td>\n",
              "      <td>0.796092</td>\n",
              "      <td>0.792611</td>\n",
              "      <td>0.002713</td>\n",
              "      <td>16</td>\n",
              "      <td>21.137609</td>\n",
              "      <td>0.025321</td>\n",
              "      <td>9.718243</td>\n",
              "      <td>0.210902</td>\n",
              "      <td>{'k': 20, 'min_k': 3, 'sim_options': {'name': ...</td>\n",
              "      <td>20</td>\n",
              "      <td>3</td>\n",
              "      <td>{'name': 'cosine', 'user_based': False}</td>\n",
              "    </tr>\n",
              "    <tr>\n",
              "      <th>2</th>\n",
              "      <td>0.951144</td>\n",
              "      <td>0.953575</td>\n",
              "      <td>0.953382</td>\n",
              "      <td>0.952700</td>\n",
              "      <td>0.001103</td>\n",
              "      <td>8</td>\n",
              "      <td>0.733859</td>\n",
              "      <td>0.736471</td>\n",
              "      <td>0.736327</td>\n",
              "      <td>0.735553</td>\n",
              "      <td>0.001199</td>\n",
              "      <td>8</td>\n",
              "      <td>10.089517</td>\n",
              "      <td>3.455126</td>\n",
              "      <td>10.128261</td>\n",
              "      <td>1.402336</td>\n",
              "      <td>{'k': 20, 'min_k': 6, 'sim_options': {'name': ...</td>\n",
              "      <td>20</td>\n",
              "      <td>6</td>\n",
              "      <td>{'name': 'msd', 'user_based': False}</td>\n",
              "    </tr>\n",
              "    <tr>\n",
              "      <th>3</th>\n",
              "      <td>1.013198</td>\n",
              "      <td>1.014696</td>\n",
              "      <td>1.019861</td>\n",
              "      <td>1.015918</td>\n",
              "      <td>0.002854</td>\n",
              "      <td>17</td>\n",
              "      <td>0.790335</td>\n",
              "      <td>0.792375</td>\n",
              "      <td>0.796078</td>\n",
              "      <td>0.792929</td>\n",
              "      <td>0.002377</td>\n",
              "      <td>17</td>\n",
              "      <td>20.849862</td>\n",
              "      <td>0.159455</td>\n",
              "      <td>9.439012</td>\n",
              "      <td>0.240451</td>\n",
              "      <td>{'k': 20, 'min_k': 6, 'sim_options': {'name': ...</td>\n",
              "      <td>20</td>\n",
              "      <td>6</td>\n",
              "      <td>{'name': 'cosine', 'user_based': False}</td>\n",
              "    </tr>\n",
              "    <tr>\n",
              "      <th>4</th>\n",
              "      <td>0.951689</td>\n",
              "      <td>0.953672</td>\n",
              "      <td>0.953511</td>\n",
              "      <td>0.952957</td>\n",
              "      <td>0.000899</td>\n",
              "      <td>9</td>\n",
              "      <td>0.734193</td>\n",
              "      <td>0.736791</td>\n",
              "      <td>0.736561</td>\n",
              "      <td>0.735848</td>\n",
              "      <td>0.001174</td>\n",
              "      <td>9</td>\n",
              "      <td>7.320670</td>\n",
              "      <td>1.298409</td>\n",
              "      <td>11.018185</td>\n",
              "      <td>0.857073</td>\n",
              "      <td>{'k': 20, 'min_k': 9, 'sim_options': {'name': ...</td>\n",
              "      <td>20</td>\n",
              "      <td>9</td>\n",
              "      <td>{'name': 'msd', 'user_based': False}</td>\n",
              "    </tr>\n",
              "  </tbody>\n",
              "</table>\n",
              "</div>"
            ],
            "text/plain": [
              "   split0_test_rmse  split1_test_rmse  split2_test_rmse  mean_test_rmse  \\\n",
              "0          0.950005          0.953504          0.953503        0.952337   \n",
              "1          1.012080          1.014571          1.019947        1.015533   \n",
              "2          0.951144          0.953575          0.953382        0.952700   \n",
              "3          1.013198          1.014696          1.019861        1.015918   \n",
              "4          0.951689          0.953672          0.953511        0.952957   \n",
              "\n",
              "   std_test_rmse  rank_test_rmse  split0_test_mae  split1_test_mae  \\\n",
              "0       0.001649               7         0.732995         0.736407   \n",
              "1       0.003283              16         0.789473         0.792267   \n",
              "2       0.001103               8         0.733859         0.736471   \n",
              "3       0.002854              17         0.790335         0.792375   \n",
              "4       0.000899               9         0.734193         0.736791   \n",
              "\n",
              "   split2_test_mae  mean_test_mae  std_test_mae  rank_test_mae  mean_fit_time  \\\n",
              "0         0.736340       0.735247      0.001593              7      12.407956   \n",
              "1         0.796092       0.792611      0.002713             16      21.137609   \n",
              "2         0.736327       0.735553      0.001199              8      10.089517   \n",
              "3         0.796078       0.792929      0.002377             17      20.849862   \n",
              "4         0.736561       0.735848      0.001174              9       7.320670   \n",
              "\n",
              "   std_fit_time  mean_test_time  std_test_time  \\\n",
              "0      0.151840        9.615959       0.237127   \n",
              "1      0.025321        9.718243       0.210902   \n",
              "2      3.455126       10.128261       1.402336   \n",
              "3      0.159455        9.439012       0.240451   \n",
              "4      1.298409       11.018185       0.857073   \n",
              "\n",
              "                                              params  param_k  param_min_k  \\\n",
              "0  {'k': 20, 'min_k': 3, 'sim_options': {'name': ...       20            3   \n",
              "1  {'k': 20, 'min_k': 3, 'sim_options': {'name': ...       20            3   \n",
              "2  {'k': 20, 'min_k': 6, 'sim_options': {'name': ...       20            6   \n",
              "3  {'k': 20, 'min_k': 6, 'sim_options': {'name': ...       20            6   \n",
              "4  {'k': 20, 'min_k': 9, 'sim_options': {'name': ...       20            9   \n",
              "\n",
              "                         param_sim_options  \n",
              "0     {'name': 'msd', 'user_based': False}  \n",
              "1  {'name': 'cosine', 'user_based': False}  \n",
              "2     {'name': 'msd', 'user_based': False}  \n",
              "3  {'name': 'cosine', 'user_based': False}  \n",
              "4     {'name': 'msd', 'user_based': False}  "
            ]
          },
          "execution_count": 41,
          "metadata": {},
          "output_type": "execute_result"
        }
      ],
      "source": [
        "results_df = pd.DataFrame.from_dict(grid_obj.cv_results)\n",
        "results_df.head()"
      ]
    },
    {
      "cell_type": "markdown",
      "metadata": {
        "id": "rJkmvdsf2rUt"
      },
      "source": [
        "Now let's build the **final model** by using **tuned values of the hyperparameters** which we received by using grid search cross-validation."
      ]
    },
    {
      "cell_type": "code",
      "execution_count": 42,
      "metadata": {
        "id": "46irii4pwICL"
      },
      "outputs": [
        {
          "name": "stdout",
          "output_type": "stream",
          "text": [
            "RMSE: 0.9649\n"
          ]
        },
        {
          "data": {
            "text/plain": [
              "0.9648695560524467"
            ]
          },
          "execution_count": 42,
          "metadata": {},
          "output_type": "execute_result"
        }
      ],
      "source": [
        "# Remove _______ and complete the code\n",
        "# Creating an instance of KNNBasic with optimal hyperparameter values\n",
        "similarity_algo_optimized_item = KNNBasic(sim_options={'name': 'msd', 'user_base': False}\n",
        "                                          , k=30, min_k=6,verbose=False)\n",
        "\n",
        "# Training the algorithm on the trainset\n",
        "similarity_algo_optimized_item.fit(trainset)\n",
        "\n",
        "# Predicting ratings for the testset\n",
        "predictions = similarity_algo_optimized_item.test(testset)\n",
        "\n",
        "# Computing RMSE on testset\n",
        "accuracy.rmse(predictions)"
      ]
    },
    {
      "attachments": {},
      "cell_type": "markdown",
      "metadata": {
        "id": "OTdrMpQUwICM"
      },
      "source": [
        "- We can see from above that after tuning hyperparameters, RMSE for testset has reduced to 0.96 from 1.006, Which indicates that the model has improved"
      ]
    },
    {
      "cell_type": "markdown",
      "metadata": {
        "id": "tiDcRQDvwICN"
      },
      "source": [
        "### **Q 4.4 What is the Predicted rating for an item with userId =4 and for movieId= 10 and movieId=3 using tuned item based collaborative filtering? (1 Mark)**"
      ]
    },
    {
      "cell_type": "markdown",
      "metadata": {
        "id": "5IGjjEtpwICN"
      },
      "source": [
        "Let's us now predict rating for an user with `userId=4` and for `movieId=10` with the optimized model as shown below"
      ]
    },
    {
      "cell_type": "code",
      "execution_count": 43,
      "metadata": {
        "id": "Wg8APEG4wICO"
      },
      "outputs": [
        {
          "name": "stdout",
          "output_type": "stream",
          "text": [
            "user: 4          item: 10         r_ui = 4.00   est = 3.71   {'actual_k': 30, 'was_impossible': False}\n"
          ]
        },
        {
          "data": {
            "text/plain": [
              "Prediction(uid=4, iid=10, r_ui=4, est=3.7130360608903943, details={'actual_k': 30, 'was_impossible': False})"
            ]
          },
          "execution_count": 43,
          "metadata": {},
          "output_type": "execute_result"
        }
      ],
      "source": [
        "# Remove _______ and complete the code\n",
        "similarity_algo_optimized_item.predict(4,10, r_ui=4, verbose=True)"
      ]
    },
    {
      "attachments": {},
      "cell_type": "markdown",
      "metadata": {
        "id": "qUXl61_5wICP"
      },
      "source": [
        "- According to the model User 4 will likely rate movieId 3 a <b>3.71/5</b>"
      ]
    },
    {
      "cell_type": "markdown",
      "metadata": {
        "id": "HDNNs3cqwICP"
      },
      "source": [
        "Let's predict the rating for the same `userId=4` but for a movie which this user has not interacted before i.e. `movieId=3`, by using the optimized model:"
      ]
    },
    {
      "cell_type": "code",
      "execution_count": 44,
      "metadata": {
        "id": "oEew8TwvwICQ"
      },
      "outputs": [
        {
          "name": "stdout",
          "output_type": "stream",
          "text": [
            "user: 4          item: 3          r_ui = None   est = 3.45   {'actual_k': 30, 'was_impossible': False}\n"
          ]
        },
        {
          "data": {
            "text/plain": [
              "Prediction(uid=4, iid=3, r_ui=None, est=3.4483196919285954, details={'actual_k': 30, 'was_impossible': False})"
            ]
          },
          "execution_count": 44,
          "metadata": {},
          "output_type": "execute_result"
        }
      ],
      "source": [
        "# Remove _______ and complete the code\n",
        "similarity_algo_optimized_item.predict(4, 3, verbose=True)"
      ]
    },
    {
      "attachments": {},
      "cell_type": "markdown",
      "metadata": {
        "id": "sTKvXHU0wICR"
      },
      "source": [
        "- According to the model User 4 will likely rate movieId 3 a <b>3.45/5</b>"
      ]
    },
    {
      "cell_type": "markdown",
      "metadata": {
        "id": "xquRIW-XwICS"
      },
      "source": [
        "### **Identifying similar items to a given item (nearest neighbors)**\n",
        "We can also find out the similar items to a given item or its nearest neighbors based on this KNNBasic algorithm. Below we are finding 5 most similar items to the `movieId=3` based on the `msd` distance metric"
      ]
    },
    {
      "cell_type": "code",
      "execution_count": 45,
      "metadata": {
        "id": "b4HbXJv-wICS"
      },
      "outputs": [
        {
          "data": {
            "text/plain": [
              "[118, 296, 478, 573, 576]"
            ]
          },
          "execution_count": 45,
          "metadata": {},
          "output_type": "execute_result"
        }
      ],
      "source": [
        "# Remove _______ and complete the code\n",
        "similarity_algo_optimized_item.get_neighbors(3, k=5)"
      ]
    },
    {
      "cell_type": "markdown",
      "metadata": {
        "id": "PI69gPEdwICZ"
      },
      "source": [
        "#### **Predicted top 5 movies for userId=4 with similarity based recommendation system**"
      ]
    },
    {
      "cell_type": "code",
      "execution_count": 46,
      "metadata": {
        "id": "RAzdWtCSwICa"
      },
      "outputs": [],
      "source": [
        "# Remove _______ and complete the code\n",
        "recommendations = get_recommendations(rating, 4, 5, similarity_algo_optimized_item)"
      ]
    },
    {
      "cell_type": "markdown",
      "metadata": {
        "id": "_cDPuGWcwICb"
      },
      "source": [
        "### **Q 4.5 Predict the top 5 movies for userId=4 with similarity based recommendation system (1 Mark)**"
      ]
    },
    {
      "cell_type": "code",
      "execution_count": 47,
      "metadata": {
        "id": "kJICKPecwICb"
      },
      "outputs": [
        {
          "data": {
            "text/plain": [
              "[(98491, 4.863224466679252),\n",
              " (1192, 4.803341471563519),\n",
              " (6669, 4.794608813756791),\n",
              " (116, 4.793891781356206),\n",
              " (1221, 4.741084623269258)]"
            ]
          },
          "execution_count": 47,
          "metadata": {},
          "output_type": "execute_result"
        }
      ],
      "source": [
        "recommendations"
      ]
    },
    {
      "cell_type": "markdown",
      "metadata": {
        "id": "rKgJpSA9vOOL"
      },
      "source": [
        "## **Model 4: Based Collaborative Filtering - Matrix Factorization using SVD (7 Marks)**"
      ]
    },
    {
      "cell_type": "markdown",
      "metadata": {
        "id": "YF6ZGyqhCAob"
      },
      "source": [
        "Model-based Collaborative Filtering is a **personalized recommendation system**, the recommendations are based on the past behavior of the user and it is not dependent on any additional information. We use **latent features** to find recommendations for each user."
      ]
    },
    {
      "cell_type": "markdown",
      "metadata": {
        "id": "uxGWVpOMvOOL"
      },
      "source": [
        "**Latent Features:** The features that are not present in the empirical data but can be inferred from the data. For example:"
      ]
    },
    {
      "cell_type": "markdown",
      "metadata": {
        "id": "ZfVDC0IuvOOL"
      },
      "source": [
        "![test_image](https://raw.githubusercontent.com/GL-ACADOPS/RS-IMAGES/main/CF3.PNG)"
      ]
    },
    {
      "cell_type": "markdown",
      "metadata": {
        "id": "W2TTW8YfvOOL"
      },
      "source": [
        "Now if we notice the above movies closely:"
      ]
    },
    {
      "cell_type": "markdown",
      "metadata": {
        "id": "RDcl6w2WvOOL"
      },
      "source": [
        "![test_image](https://raw.githubusercontent.com/GL-ACADOPS/RS-IMAGES/main/CF4.PNG)"
      ]
    },
    {
      "cell_type": "markdown",
      "metadata": {
        "id": "3l7fsZWNvOOL"
      },
      "source": [
        "Here **Action**, **Romance**, **Suspense** and **Comedy** are latent features of the corresponding movies. Similarly, we can compute the latent features for users as shown below:"
      ]
    },
    {
      "cell_type": "markdown",
      "metadata": {
        "id": "0Ad4w7bvvOOL"
      },
      "source": [
        "![test_image](https://raw.githubusercontent.com/GL-ACADOPS/RS-IMAGES/main/CF5.PNG)\n",
        "\n"
      ]
    },
    {
      "cell_type": "markdown",
      "metadata": {
        "id": "n4Otha8ovOOL"
      },
      "source": [
        "### **Singular Value Decomposition (SVD)**"
      ]
    },
    {
      "cell_type": "markdown",
      "metadata": {
        "id": "3sGl3QkLvOOL"
      },
      "source": [
        "SVD is used to **compute the latent features** from the **user-item matrix**. But SVD does not work when we **miss values** in the **user-item matrix**."
      ]
    },
    {
      "cell_type": "markdown",
      "metadata": {
        "id": "C80zDC6xvOOL"
      },
      "source": [
        "First we need to convert the below movie-rating dataset:"
      ]
    },
    {
      "cell_type": "markdown",
      "metadata": {
        "id": "xA_MGBrwvOOL"
      },
      "source": [
        "![test_image](https://raw.githubusercontent.com/GL-ACADOPS/RS-IMAGES/main/CF3.PNG)"
      ]
    },
    {
      "cell_type": "markdown",
      "metadata": {
        "id": "3q39l4__vOOL"
      },
      "source": [
        "into an user-item matrix as shown below:"
      ]
    },
    {
      "cell_type": "markdown",
      "metadata": {
        "id": "kAz3MNfEvOOL"
      },
      "source": [
        "![test_image](https://raw.githubusercontent.com/GL-ACADOPS/RS-IMAGES/main/CF6.PNG)"
      ]
    },
    {
      "cell_type": "markdown",
      "metadata": {
        "id": "6piwQzq3vOOL"
      },
      "source": [
        "We have already done this above while computing cosine similarities."
      ]
    },
    {
      "cell_type": "markdown",
      "metadata": {
        "id": "gOzTLIfIvOOL"
      },
      "source": [
        "**SVD decomposes this above matrix into three separate matrices:**\n",
        "- U matrix\n",
        "- Sigma matrix\n",
        "- V transpose matrix"
      ]
    },
    {
      "cell_type": "markdown",
      "metadata": {
        "id": "IVq1fCrBvOOL"
      },
      "source": [
        "#### **U-matrix**"
      ]
    },
    {
      "cell_type": "markdown",
      "metadata": {
        "id": "Y9wsChCmvOOL"
      },
      "source": [
        "![test_image](https://raw.githubusercontent.com/GL-ACADOPS/RS-IMAGES/main/CF7.PNG)"
      ]
    },
    {
      "cell_type": "markdown",
      "metadata": {
        "id": "hA1dXvYXvOOL"
      },
      "source": [
        "the above matrix is a n x k matrix, where:\n",
        "- n is number of users\n",
        "- k is number of latent features"
      ]
    },
    {
      "cell_type": "markdown",
      "metadata": {
        "id": "dplq-n9dvOOL"
      },
      "source": [
        "#### **Sigma-matrix**"
      ]
    },
    {
      "cell_type": "markdown",
      "metadata": {
        "id": "kB6jCN5svOOL"
      },
      "source": [
        "![test_image](https://raw.githubusercontent.com/GL-ACADOPS/RS-IMAGES/main/CF8.PNG)"
      ]
    },
    {
      "cell_type": "markdown",
      "metadata": {
        "id": "-twhbZ3wvOOL"
      },
      "source": [
        "the above matrix is a k x k matrix, where:\n",
        "- k is number of latent features\n",
        "- Each diagonal entry is the singular value of the original interaction matrix"
      ]
    },
    {
      "cell_type": "markdown",
      "metadata": {
        "id": "nr0dF0XcvOOL"
      },
      "source": [
        "#### **V-transpose matrix**"
      ]
    },
    {
      "cell_type": "markdown",
      "metadata": {
        "id": "hz82XFEgvOOL"
      },
      "source": [
        "![test_image](https://raw.githubusercontent.com/GL-ACADOPS/RS-IMAGES/main/CF9.PNG)"
      ]
    },
    {
      "cell_type": "markdown",
      "metadata": {
        "id": "o9B1119q2N-M"
      },
      "source": [
        "the above matrix is a kxn matrix, where:\n",
        "- k is the number of latent features\n",
        "- n is the number of items"
      ]
    },
    {
      "cell_type": "markdown",
      "metadata": {
        "id": "uOtkUXmAnVNL"
      },
      "source": [
        "### **Build a baseline matrix factorization recommendation system**"
      ]
    },
    {
      "cell_type": "code",
      "execution_count": 48,
      "metadata": {
        "id": "07-2PT5Ssjqm"
      },
      "outputs": [
        {
          "name": "stdout",
          "output_type": "stream",
          "text": [
            "RMSE: 0.9033\n"
          ]
        },
        {
          "data": {
            "text/plain": [
              "0.9033354495602317"
            ]
          },
          "execution_count": 48,
          "metadata": {},
          "output_type": "execute_result"
        }
      ],
      "source": [
        "# Remove _______ and complete the code\n",
        "\n",
        "# Using SVD matrix factorization\n",
        "algo_svd = SVD()\n",
        "\n",
        "# Training the algorithm on the trainset\n",
        "algo_svd.fit(trainset)\n",
        "\n",
        "# Predicting ratings for the testset\n",
        "predictions = algo_svd.test(testset)\n",
        "\n",
        "# Computing RMSE on the testset\n",
        "accuracy.rmse(predictions)"
      ]
    },
    {
      "cell_type": "markdown",
      "metadata": {
        "id": "2271PkTuwICu"
      },
      "source": [
        "### **Q 5.1 What is the RMSE for baseline SVD based collaborative filtering recommendation system? (1 Mark)**"
      ]
    },
    {
      "attachments": {},
      "cell_type": "markdown",
      "metadata": {
        "id": "BQ6fTuCDnVNL"
      },
      "source": [
        "We can denote that the baseline RMSE for matrix factorization model on testset (which is 0.93) is lower as compared to the RMSE for baseline similarity based recommendation system (which is 1.06) and it is even lesser than the RMSE for optimized similarity based recommendation system (which is 0.99)"
      ]
    },
    {
      "cell_type": "markdown",
      "metadata": {
        "id": "fsBGQrwCwICv"
      },
      "source": [
        "### **Q 5.2 What is the Predicted  rating for an user with userId =4 and for movieId= 10 and movieId=3? (1 Mark)**"
      ]
    },
    {
      "cell_type": "markdown",
      "metadata": {
        "id": "HD2AU1DnnVNM"
      },
      "source": [
        "Let's us now predict rating for an user with `userId=4` and for `movieId=10`"
      ]
    },
    {
      "cell_type": "code",
      "execution_count": 49,
      "metadata": {
        "id": "yWIhfdxXsjqm"
      },
      "outputs": [
        {
          "name": "stdout",
          "output_type": "stream",
          "text": [
            "user: 4          item: 10         r_ui = 4.00   est = 4.20   {'was_impossible': False}\n"
          ]
        },
        {
          "data": {
            "text/plain": [
              "Prediction(uid=4, iid=10, r_ui=4, est=4.199278155020397, details={'was_impossible': False})"
            ]
          },
          "execution_count": 49,
          "metadata": {},
          "output_type": "execute_result"
        }
      ],
      "source": [
        "# Remove _______ and complete the code\n",
        "algo_svd.predict(4,10, r_ui=4, verbose=True)"
      ]
    },
    {
      "attachments": {},
      "cell_type": "markdown",
      "metadata": {
        "id": "oIjzqDY5nVNM"
      },
      "source": [
        "- the actual rating for this user-item pair is 4 and predicted rating is 4.20 by this matrix factorization based baseline model"
      ]
    },
    {
      "cell_type": "markdown",
      "metadata": {
        "id": "I1aYxVeMnVNM"
      },
      "source": [
        "Let's predict the rating for the same `userId=4` but for a movie which this user has not interacted before i.e. `movieId=3`:"
      ]
    },
    {
      "cell_type": "code",
      "execution_count": 50,
      "metadata": {
        "id": "APm-uMSvcAMf"
      },
      "outputs": [
        {
          "name": "stdout",
          "output_type": "stream",
          "text": [
            "user: 4          item: 3          r_ui = None   est = 3.75   {'was_impossible': False}\n"
          ]
        },
        {
          "data": {
            "text/plain": [
              "Prediction(uid=4, iid=3, r_ui=None, est=3.7504369637593924, details={'was_impossible': False})"
            ]
          },
          "execution_count": 50,
          "metadata": {},
          "output_type": "execute_result"
        }
      ],
      "source": [
        "# Remove _______ and complete the code\n",
        "algo_svd.predict(4, 3, verbose=True)"
      ]
    },
    {
      "attachments": {},
      "cell_type": "markdown",
      "metadata": {
        "id": "NEL6dy3wnVNM"
      },
      "source": [
        "the estimated rating for this user-item pair is 3.75 based on this matrix factorization model."
      ]
    },
    {
      "cell_type": "markdown",
      "metadata": {
        "id": "x13Eb9Owvpcw"
      },
      "source": [
        "### **Improving matrix factorization based recommendation system by tuning its hyper-parameters**"
      ]
    },
    {
      "cell_type": "markdown",
      "metadata": {
        "id": "qbd3L1d2nVNM"
      },
      "source": [
        "In SVD, rating is predicted as - "
      ]
    },
    {
      "cell_type": "markdown",
      "metadata": {
        "id": "Wp38lmEqnVNM"
      },
      "source": [
        "$$\\hat{r}_{u i}=\\mu+b_{u}+b_{i}+q_{i}^{T} p_{u}$$"
      ]
    },
    {
      "cell_type": "markdown",
      "metadata": {
        "id": "bHVAYuFznVNN"
      },
      "source": [
        "If user $u$ is unknown, then the bias $b_{u}$ and the factors $p_{u}$ are assumed to be zero. The same applies for item $i$ with $b_{i}$ and $q_{i}$."
      ]
    },
    {
      "cell_type": "markdown",
      "metadata": {
        "id": "jCfY5mr7nVNN"
      },
      "source": [
        "To estimate all the unknown, we minimize the following regularized squared error:"
      ]
    },
    {
      "cell_type": "markdown",
      "metadata": {
        "id": "1WyyjmK7nVNN"
      },
      "source": [
        "$$\\sum_{r_{u i} \\in R_{\\text {train }}}\\left(r_{u i}-\\hat{r}_{u i}\\right)^{2}+\\lambda\\left(b_{i}^{2}+b_{u}^{2}+\\left\\|q_{i}\\right\\|^{2}+\\left\\|p_{u}\\right\\|^{2}\\right)$$"
      ]
    },
    {
      "cell_type": "markdown",
      "metadata": {
        "id": "-GBMNL9qnVNN"
      },
      "source": [
        "The minimization is performed by a very straightforward **stochastic gradient descent**:"
      ]
    },
    {
      "cell_type": "markdown",
      "metadata": {
        "id": "CwJJRsJGnVNN"
      },
      "source": [
        "$$\\begin{aligned} b_{u} & \\leftarrow b_{u}+\\gamma\\left(e_{u i}-\\lambda b_{u}\\right) \\\\ b_{i} & \\leftarrow b_{i}+\\gamma\\left(e_{u i}-\\lambda b_{i}\\right) \\\\ p_{u} & \\leftarrow p_{u}+\\gamma\\left(e_{u i} \\cdot q_{i}-\\lambda p_{u}\\right) \\\\ q_{i} & \\leftarrow q_{i}+\\gamma\\left(e_{u i} \\cdot p_{u}-\\lambda q_{i}\\right) \\end{aligned}$$"
      ]
    },
    {
      "cell_type": "markdown",
      "metadata": {
        "id": "nuRjcsUknVNN"
      },
      "source": [
        "There are many hyperparameters to tune in this algorithm, you can find a full list of hyperparameters [here](https://surprise.readthedocs.io/en/stable/matrix_factorization.html#surprise.prediction_algorithms.matrix_factorization.SVD)"
      ]
    },
    {
      "cell_type": "markdown",
      "metadata": {
        "id": "iQcDPhhcnVNN"
      },
      "source": [
        "Below we will be tuning only three hyperparameters -\n",
        "- **n_epochs**: The number of iteration of the SGD algorithm\n",
        "- **lr_all**: The learning rate for all parameters\n",
        "- **reg_all**: The regularization term for all parameters"
      ]
    },
    {
      "cell_type": "markdown",
      "metadata": {
        "id": "ksN4zUnUwIC_"
      },
      "source": [
        "### **Q 5.3 Perform hyperparameter tuning for the baseline SVD based collaborative filtering recommendation system and find the RMSE for tuned SVD based collaborative filtering recommendation system? (3 Marks)**"
      ]
    },
    {
      "cell_type": "code",
      "execution_count": 51,
      "metadata": {
        "id": "4bM81V_hvtwv"
      },
      "outputs": [
        {
          "name": "stdout",
          "output_type": "stream",
          "text": [
            "0.8936577859185507\n",
            "{'n_epochs': 30, 'lr_all': 0.01, 'reg_all': 0.2}\n"
          ]
        }
      ],
      "source": [
        "# Remove _______ and complete the code\n",
        "\n",
        "# Set the parameter space to tune\n",
        "param_grid = {'n_epochs': [10, 20, 30], 'lr_all': [0.001, 0.005, 0.01],\n",
        "              'reg_all': [0.2, 0.4, 0.6]}\n",
        "\n",
        "# Performing 3-fold gridsearch cross validation\n",
        "gs = GridSearchCV(SVD, param_grid, measures=['rmse', 'mae'], cv=3, n_jobs=-1)\n",
        "\n",
        "# Fitting data\n",
        "gs.fit(data)\n",
        "\n",
        "# Best RMSE score\n",
        "print(gs.best_score['rmse'])\n",
        "\n",
        "# Combination of parameters that gave the best RMSE score\n",
        "print(gs.best_params['rmse'])"
      ]
    },
    {
      "cell_type": "markdown",
      "metadata": {
        "id": "cjIaWSIAnVNN"
      },
      "source": [
        "Once the **grid search** is complete, we can get the **optimal values** for each of those hyperparameters, as shown above."
      ]
    },
    {
      "cell_type": "markdown",
      "metadata": {
        "id": "2CfLdGf0nVNN"
      },
      "source": [
        "Below we are analysing evaluation metrics - RMSE and MAE at each and every split to analyze the impact of each value of hyperparameters"
      ]
    },
    {
      "cell_type": "code",
      "execution_count": 52,
      "metadata": {
        "id": "RMb3t3z_vt8W"
      },
      "outputs": [
        {
          "data": {
            "text/html": [
              "<div>\n",
              "<style scoped>\n",
              "    .dataframe tbody tr th:only-of-type {\n",
              "        vertical-align: middle;\n",
              "    }\n",
              "\n",
              "    .dataframe tbody tr th {\n",
              "        vertical-align: top;\n",
              "    }\n",
              "\n",
              "    .dataframe thead th {\n",
              "        text-align: right;\n",
              "    }\n",
              "</style>\n",
              "<table border=\"1\" class=\"dataframe\">\n",
              "  <thead>\n",
              "    <tr style=\"text-align: right;\">\n",
              "      <th></th>\n",
              "      <th>split0_test_rmse</th>\n",
              "      <th>split1_test_rmse</th>\n",
              "      <th>split2_test_rmse</th>\n",
              "      <th>mean_test_rmse</th>\n",
              "      <th>std_test_rmse</th>\n",
              "      <th>rank_test_rmse</th>\n",
              "      <th>split0_test_mae</th>\n",
              "      <th>split1_test_mae</th>\n",
              "      <th>split2_test_mae</th>\n",
              "      <th>mean_test_mae</th>\n",
              "      <th>std_test_mae</th>\n",
              "      <th>rank_test_mae</th>\n",
              "      <th>mean_fit_time</th>\n",
              "      <th>std_fit_time</th>\n",
              "      <th>mean_test_time</th>\n",
              "      <th>std_test_time</th>\n",
              "      <th>params</th>\n",
              "      <th>param_n_epochs</th>\n",
              "      <th>param_lr_all</th>\n",
              "      <th>param_reg_all</th>\n",
              "    </tr>\n",
              "  </thead>\n",
              "  <tbody>\n",
              "    <tr>\n",
              "      <th>0</th>\n",
              "      <td>0.943387</td>\n",
              "      <td>0.947940</td>\n",
              "      <td>0.937596</td>\n",
              "      <td>0.942974</td>\n",
              "      <td>0.004233</td>\n",
              "      <td>25</td>\n",
              "      <td>0.737427</td>\n",
              "      <td>0.741901</td>\n",
              "      <td>0.735161</td>\n",
              "      <td>0.738163</td>\n",
              "      <td>0.002800</td>\n",
              "      <td>25</td>\n",
              "      <td>0.258792</td>\n",
              "      <td>0.036248</td>\n",
              "      <td>0.214878</td>\n",
              "      <td>0.017663</td>\n",
              "      <td>{'n_epochs': 10, 'lr_all': 0.001, 'reg_all': 0.2}</td>\n",
              "      <td>10</td>\n",
              "      <td>0.001</td>\n",
              "      <td>0.2</td>\n",
              "    </tr>\n",
              "    <tr>\n",
              "      <th>1</th>\n",
              "      <td>0.948089</td>\n",
              "      <td>0.952855</td>\n",
              "      <td>0.942098</td>\n",
              "      <td>0.947681</td>\n",
              "      <td>0.004401</td>\n",
              "      <td>26</td>\n",
              "      <td>0.742726</td>\n",
              "      <td>0.747195</td>\n",
              "      <td>0.740174</td>\n",
              "      <td>0.743365</td>\n",
              "      <td>0.002902</td>\n",
              "      <td>26</td>\n",
              "      <td>0.374146</td>\n",
              "      <td>0.006301</td>\n",
              "      <td>0.207856</td>\n",
              "      <td>0.009700</td>\n",
              "      <td>{'n_epochs': 10, 'lr_all': 0.001, 'reg_all': 0.4}</td>\n",
              "      <td>10</td>\n",
              "      <td>0.001</td>\n",
              "      <td>0.4</td>\n",
              "    </tr>\n",
              "    <tr>\n",
              "      <th>2</th>\n",
              "      <td>0.952610</td>\n",
              "      <td>0.957929</td>\n",
              "      <td>0.946976</td>\n",
              "      <td>0.952505</td>\n",
              "      <td>0.004472</td>\n",
              "      <td>27</td>\n",
              "      <td>0.747749</td>\n",
              "      <td>0.752682</td>\n",
              "      <td>0.745575</td>\n",
              "      <td>0.748669</td>\n",
              "      <td>0.002974</td>\n",
              "      <td>27</td>\n",
              "      <td>0.389210</td>\n",
              "      <td>0.054778</td>\n",
              "      <td>0.225928</td>\n",
              "      <td>0.017738</td>\n",
              "      <td>{'n_epochs': 10, 'lr_all': 0.001, 'reg_all': 0.6}</td>\n",
              "      <td>10</td>\n",
              "      <td>0.001</td>\n",
              "      <td>0.6</td>\n",
              "    </tr>\n",
              "    <tr>\n",
              "      <th>3</th>\n",
              "      <td>0.907975</td>\n",
              "      <td>0.910199</td>\n",
              "      <td>0.902025</td>\n",
              "      <td>0.906733</td>\n",
              "      <td>0.003451</td>\n",
              "      <td>11</td>\n",
              "      <td>0.702017</td>\n",
              "      <td>0.705049</td>\n",
              "      <td>0.700181</td>\n",
              "      <td>0.702416</td>\n",
              "      <td>0.002008</td>\n",
              "      <td>9</td>\n",
              "      <td>0.361631</td>\n",
              "      <td>0.016825</td>\n",
              "      <td>0.207158</td>\n",
              "      <td>0.018945</td>\n",
              "      <td>{'n_epochs': 10, 'lr_all': 0.005, 'reg_all': 0.2}</td>\n",
              "      <td>10</td>\n",
              "      <td>0.005</td>\n",
              "      <td>0.2</td>\n",
              "    </tr>\n",
              "    <tr>\n",
              "      <th>4</th>\n",
              "      <td>0.914438</td>\n",
              "      <td>0.917519</td>\n",
              "      <td>0.909128</td>\n",
              "      <td>0.913695</td>\n",
              "      <td>0.003466</td>\n",
              "      <td>15</td>\n",
              "      <td>0.709342</td>\n",
              "      <td>0.713026</td>\n",
              "      <td>0.707734</td>\n",
              "      <td>0.710034</td>\n",
              "      <td>0.002215</td>\n",
              "      <td>15</td>\n",
              "      <td>0.352148</td>\n",
              "      <td>0.020535</td>\n",
              "      <td>0.208246</td>\n",
              "      <td>0.013440</td>\n",
              "      <td>{'n_epochs': 10, 'lr_all': 0.005, 'reg_all': 0.4}</td>\n",
              "      <td>10</td>\n",
              "      <td>0.005</td>\n",
              "      <td>0.4</td>\n",
              "    </tr>\n",
              "  </tbody>\n",
              "</table>\n",
              "</div>"
            ],
            "text/plain": [
              "   split0_test_rmse  split1_test_rmse  split2_test_rmse  mean_test_rmse  \\\n",
              "0          0.943387          0.947940          0.937596        0.942974   \n",
              "1          0.948089          0.952855          0.942098        0.947681   \n",
              "2          0.952610          0.957929          0.946976        0.952505   \n",
              "3          0.907975          0.910199          0.902025        0.906733   \n",
              "4          0.914438          0.917519          0.909128        0.913695   \n",
              "\n",
              "   std_test_rmse  rank_test_rmse  split0_test_mae  split1_test_mae  \\\n",
              "0       0.004233              25         0.737427         0.741901   \n",
              "1       0.004401              26         0.742726         0.747195   \n",
              "2       0.004472              27         0.747749         0.752682   \n",
              "3       0.003451              11         0.702017         0.705049   \n",
              "4       0.003466              15         0.709342         0.713026   \n",
              "\n",
              "   split2_test_mae  mean_test_mae  std_test_mae  rank_test_mae  mean_fit_time  \\\n",
              "0         0.735161       0.738163      0.002800             25       0.258792   \n",
              "1         0.740174       0.743365      0.002902             26       0.374146   \n",
              "2         0.745575       0.748669      0.002974             27       0.389210   \n",
              "3         0.700181       0.702416      0.002008              9       0.361631   \n",
              "4         0.707734       0.710034      0.002215             15       0.352148   \n",
              "\n",
              "   std_fit_time  mean_test_time  std_test_time  \\\n",
              "0      0.036248        0.214878       0.017663   \n",
              "1      0.006301        0.207856       0.009700   \n",
              "2      0.054778        0.225928       0.017738   \n",
              "3      0.016825        0.207158       0.018945   \n",
              "4      0.020535        0.208246       0.013440   \n",
              "\n",
              "                                              params  param_n_epochs  \\\n",
              "0  {'n_epochs': 10, 'lr_all': 0.001, 'reg_all': 0.2}              10   \n",
              "1  {'n_epochs': 10, 'lr_all': 0.001, 'reg_all': 0.4}              10   \n",
              "2  {'n_epochs': 10, 'lr_all': 0.001, 'reg_all': 0.6}              10   \n",
              "3  {'n_epochs': 10, 'lr_all': 0.005, 'reg_all': 0.2}              10   \n",
              "4  {'n_epochs': 10, 'lr_all': 0.005, 'reg_all': 0.4}              10   \n",
              "\n",
              "   param_lr_all  param_reg_all  \n",
              "0         0.001            0.2  \n",
              "1         0.001            0.4  \n",
              "2         0.001            0.6  \n",
              "3         0.005            0.2  \n",
              "4         0.005            0.4  "
            ]
          },
          "execution_count": 52,
          "metadata": {},
          "output_type": "execute_result"
        }
      ],
      "source": [
        "results_df = pd.DataFrame.from_dict(gs.cv_results)\n",
        "results_df.head()"
      ]
    },
    {
      "cell_type": "markdown",
      "metadata": {
        "id": "KzY78HsrnVNO"
      },
      "source": [
        "Now, we will **the build final model** by using **tuned values** of the hyperparameters, which we received using grid search cross-validation above."
      ]
    },
    {
      "cell_type": "code",
      "execution_count": 54,
      "metadata": {
        "id": "TA_7xe-nnhuu"
      },
      "outputs": [
        {
          "name": "stdout",
          "output_type": "stream",
          "text": [
            "RMSE: 0.8950\n"
          ]
        },
        {
          "data": {
            "text/plain": [
              "0.8949892365162011"
            ]
          },
          "execution_count": 54,
          "metadata": {},
          "output_type": "execute_result"
        }
      ],
      "source": [
        "# Remove _______ and complete the code\n",
        "\n",
        "# Building the optimized SVD model using optimal hyperparameter search\n",
        "svd_algo_optimized = SVD(n_epochs=30, lr_all=0.01, reg_all=0.2)\n",
        "\n",
        "# Training the algorithm on the trainset\n",
        "svd_algo_optimized.fit(trainset)\n",
        "\n",
        "# Predicting ratings for the testset\n",
        "predictions = svd_algo_optimized.test(testset)\n",
        "\n",
        "# Computing RMSE\n",
        "accuracy.rmse(predictions)"
      ]
    },
    {
      "cell_type": "markdown",
      "metadata": {
        "id": "UruWuDiCwIDE"
      },
      "source": [
        "### **Q 5.4 What is the Predicted rating for an user with userId =4 and for movieId= 10 and movieId=3 using SVD based collaborative filtering? (1 Mark)**"
      ]
    },
    {
      "cell_type": "markdown",
      "metadata": {
        "id": "md0-dL56nVNO"
      },
      "source": [
        "Let's us now predict rating for an user with `userId=4` and for `movieId=10` with the optimized model"
      ]
    },
    {
      "cell_type": "code",
      "execution_count": 55,
      "metadata": {
        "id": "s6C1PAfboM8_"
      },
      "outputs": [
        {
          "name": "stdout",
          "output_type": "stream",
          "text": [
            "user: 4          item: 10         r_ui = 4.00   est = 3.99   {'was_impossible': False}\n"
          ]
        },
        {
          "data": {
            "text/plain": [
              "Prediction(uid=4, iid=10, r_ui=4, est=3.991504240118864, details={'was_impossible': False})"
            ]
          },
          "execution_count": 55,
          "metadata": {},
          "output_type": "execute_result"
        }
      ],
      "source": [
        "# Remove _______ and complete the code\n",
        "svd_algo_optimized.predict(4, 10, r_ui=4, verbose=True)"
      ]
    },
    {
      "attachments": {},
      "cell_type": "markdown",
      "metadata": {
        "id": "VdiEtzEznVNO"
      },
      "source": [
        "- the predicted rating is 3.99"
      ]
    },
    {
      "cell_type": "markdown",
      "metadata": {
        "id": "Qd2bRtIQ4ze5"
      },
      "source": [
        "Let's predict the rating for the same `userId=4` but for a movie which this user has not interacted before i.e. `movieId=3`:"
      ]
    },
    {
      "cell_type": "code",
      "execution_count": 56,
      "metadata": {
        "id": "k1xjn3kOoQyg"
      },
      "outputs": [
        {
          "name": "stdout",
          "output_type": "stream",
          "text": [
            "user: 4          item: 3          r_ui = None   est = 3.64   {'was_impossible': False}\n"
          ]
        },
        {
          "data": {
            "text/plain": [
              "Prediction(uid=4, iid=3, r_ui=None, est=3.6383671270134244, details={'was_impossible': False})"
            ]
          },
          "execution_count": 56,
          "metadata": {},
          "output_type": "execute_result"
        }
      ],
      "source": [
        "# Remove _______ and complete the code\n",
        "svd_algo_optimized.predict(4, 3, verbose=True)"
      ]
    },
    {
      "cell_type": "markdown",
      "metadata": {
        "id": "5jlUBrbFwIDH"
      },
      "source": [
        "### **Q 5.5 Predict the top 5 movies for userId=4 with SVD based recommendation system?(1 Mark)**"
      ]
    },
    {
      "cell_type": "code",
      "execution_count": 57,
      "metadata": {
        "id": "1LGeE2EB_n90"
      },
      "outputs": [
        {
          "data": {
            "text/plain": [
              "[(1192, 5),\n",
              " (116, 4.972675682179062),\n",
              " (3310, 4.955798899644724),\n",
              " (926, 4.938952054982838),\n",
              " (1948, 4.9279474390855205)]"
            ]
          },
          "execution_count": 57,
          "metadata": {},
          "output_type": "execute_result"
        }
      ],
      "source": [
        "# Remove _______ and complete the code\n",
        "get_recommendations(rating, 4, 5, svd_algo_optimized)"
      ]
    },
    {
      "cell_type": "markdown",
      "metadata": {
        "id": "xgKmqss1vqGz"
      },
      "source": [
        "### **Predicting ratings for already interacted movies** "
      ]
    },
    {
      "cell_type": "markdown",
      "metadata": {
        "id": "nNlUEB13wIDJ"
      },
      "source": [
        "Below we are comparing the rating predictions of users for those movies which has been already watched by an user. This will help us to understand how well are predictions are as compared to the actual ratings provided by users"
      ]
    },
    {
      "cell_type": "code",
      "execution_count": 58,
      "metadata": {
        "id": "hQIPHA7-vg7W"
      },
      "outputs": [],
      "source": [
        "def predict_already_interacted_ratings(data, user_id, algo):\n",
        "    \n",
        "    # Creating an empty list to store the recommended movie ids\n",
        "    recommendations = []\n",
        "    \n",
        "    # Creating an user item interactions matrix \n",
        "    user_item_interactions_matrix = data.pivot(index='userId', columns='movieId', values='rating')\n",
        "    \n",
        "    # Extracting those movie ids which the user_id has interacted already\n",
        "    interacted_movies = user_item_interactions_matrix.loc[user_id][user_item_interactions_matrix.loc[user_id].notnull()].index.tolist()\n",
        "    \n",
        "    # Looping through each of the movie id which user_id has interacted already\n",
        "    for item_id in interacted_movies:\n",
        "        \n",
        "        # Extracting actual ratings\n",
        "        actual_rating = user_item_interactions_matrix.loc[user_id, item_id]\n",
        "        \n",
        "        # Predicting the ratings for those non interacted movie ids by this user\n",
        "        predicted_rating = algo.predict(user_id, item_id).est\n",
        "        \n",
        "        # Appending the predicted ratings\n",
        "        recommendations.append((item_id, actual_rating, predicted_rating))\n",
        "\n",
        "    # Sorting the predicted ratings in descending order\n",
        "    recommendations.sort(key=lambda x: x[1], reverse=True)\n",
        "\n",
        "    return pd.DataFrame(recommendations, columns=['movieId', 'actual_rating', 'predicted_rating']) # returing top n highest predicted rating movies for this user"
      ]
    },
    {
      "cell_type": "markdown",
      "metadata": {
        "id": "5T0q833lwIDK"
      },
      "source": [
        "Here we are comparing the predicted ratings by `similarity based recommendation` system against actual ratings for `userId=7`"
      ]
    },
    {
      "cell_type": "code",
      "execution_count": 59,
      "metadata": {
        "id": "IWQvGj-vyWj3"
      },
      "outputs": [
        {
          "data": {
            "image/png": "[encoded data removed]",
            "text/plain": [
              "<Figure size 664.5x500 with 1 Axes>"
            ]
          },
          "metadata": {},
          "output_type": "display_data"
        }
      ],
      "source": [
        "predicted_ratings_for_interacted_movies = predict_already_interacted_ratings(rating, 7, similarity_algo_optimized_item)\n",
        "df = predicted_ratings_for_interacted_movies.melt(id_vars='movieId', value_vars=['actual_rating', 'predicted_rating'])\n",
        "sns.displot(data=df, x='value', hue='variable', kde=True);"
      ]
    },
    {
      "attachments": {},
      "cell_type": "markdown",
      "metadata": {
        "id": "Yt9XGhb4wIDM"
      },
      "source": [
        "- We can see that distribution of predicted ratings is closely following the distribution ofactual ratings.\n",
        "- The total bins for predicted ratings are nearly same as to the total bins for actual ratings.\n",
        "- We are getting more predicted values in between 3 and 4."
      ]
    },
    {
      "cell_type": "markdown",
      "metadata": {
        "id": "jfNXSEw9wIDM"
      },
      "source": [
        "Below we are comparing the predicted ratings by `matrix factorization based recommendation` system against actual ratings for `userId=7`"
      ]
    },
    {
      "cell_type": "code",
      "execution_count": 60,
      "metadata": {
        "id": "6lYjMDhU0xuQ"
      },
      "outputs": [
        {
          "data": {
            "image/png": "[encoded data removed]",
            "text/plain": [
              "<Figure size 664.5x500 with 1 Axes>"
            ]
          },
          "metadata": {},
          "output_type": "display_data"
        }
      ],
      "source": [
        "predicted_ratings_for_interacted_movies = predict_already_interacted_ratings(rating, 7, svd_algo_optimized)\n",
        "df = predicted_ratings_for_interacted_movies.melt(id_vars='movieId', value_vars=['actual_rating', 'predicted_rating'])\n",
        "sns.displot(data=df, x='value', hue='variable', kde=True);"
      ]
    },
    {
      "cell_type": "code",
      "execution_count": 61,
      "metadata": {
        "id": "aT0zASb-wIDO"
      },
      "outputs": [],
      "source": [
        "# Instantiating Reader scale with expected rating scale\n",
        "reader = Reader(rating_scale=(0, 5))\n",
        "\n",
        "# Loading the rating dataset\n",
        "data = Dataset.load_from_df(rating[['userId', 'movieId', 'rating']], reader)\n",
        "\n",
        "# Splitting the data into train and test dataset\n",
        "trainset, testset = train_test_split(data, test_size=0.2, random_state=42)"
      ]
    },
    {
      "cell_type": "markdown",
      "metadata": {
        "id": "kGbfBUnawIDO"
      },
      "source": [
        "## **Precision and Recall @ k**\n",
        "\n",
        "RMSE is not the only metric we can use here. We can also examine two fundamental measures, precision and recall. We also add a parameter k which is helpful in understanding problems with multiple rating outputs.\n",
        "\n",
        "**Precision@k** - It is the **fraction of recommended items that are relevant in `top k` predictions**. Value of k is the number of recommendations to be provided to the user. One can choose a variable number of recommendations to be given to a unique user.  \n",
        "\n",
        "**Recall@k** - It is the **fraction of relevant items that are recommended to the user in `top k` predictions**.\n",
        "\n",
        "**Recall** - It is the **fraction of actually relevant items that are recommended to the user** i.e. if out of 10 relevant movies, 6 are recommended to the user then recall is 0.60. Higher the value of recall better is the model. It is one of the metrics to do the performance assessment of classification models.\n",
        "\n",
        "**Precision** - It is the **fraction of recommended items that are relevant actually** i.e. if out of 10 recommended items, 6 are found relevant by the user then precision is 0.60. The higher the value of precision better is the model. It is one of the metrics to do the performance assessment of classification models.\n",
        "\n",
        "See the Precision and Recall @ k section of your notebook and follow the instructions to compute various precision/recall values at various values of k.\n",
        "\n",
        "To know more about precision recall in Recommendation systems refer to these links : \n",
        "\n",
        "https://surprise.readthedocs.io/en/stable/FAQ.html\n",
        "\n",
        "https://medium.com/@m_n_malaeb/recall-and-precision-at-k-for-recommender-systems-618483226c54"
      ]
    },
    {
      "cell_type": "markdown",
      "metadata": {
        "id": "b_norGWOwIDP"
      },
      "source": [
        "### **Question6: Compute the precision and recall, for each of the 6 models, at k = 5 and 10. This is 6 x 2 = 12 numerical values? (4 marks)**"
      ]
    },
    {
      "cell_type": "code",
      "execution_count": 62,
      "metadata": {
        "id": "gihoUY5uwIDQ",
        "scrolled": false
      },
      "outputs": [],
      "source": [
        "# Function can be found on surprise documentation FAQs\n",
        "def precision_recall_at_k(predictions, k=10, threshold=3.5):\n",
        "    \"\"\"Return precision and recall at k metrics for each user\"\"\"\n",
        "\n",
        "    # First map the predictions to each user.\n",
        "    user_est_true = defaultdict(list)\n",
        "    for uid, _, true_r, est, _ in predictions:\n",
        "        user_est_true[uid].append((est, true_r))\n",
        "\n",
        "    precisions = dict()\n",
        "    recalls = dict()\n",
        "    for uid, user_ratings in user_est_true.items():\n",
        "\n",
        "        # Sort user ratings by estimated value\n",
        "        user_ratings.sort(key=lambda x: x[0], reverse=True)\n",
        "\n",
        "        # Number of relevant items\n",
        "        n_rel = sum((true_r >= threshold) for (_, true_r) in user_ratings)\n",
        "\n",
        "        # Number of recommended items in top k\n",
        "        n_rec_k = sum((est >= threshold) for (est, _) in user_ratings[:k])\n",
        "\n",
        "        # Number of relevant and recommended items in top k\n",
        "        n_rel_and_rec_k = sum(((true_r >= threshold) and (est >= threshold))\n",
        "                              for (est, true_r) in user_ratings[:k])\n",
        "\n",
        "        # Precision@K: Proportion of recommended items that are relevant\n",
        "        # When n_rec_k is 0, Precision is undefined. We here set it to 0.\n",
        "\n",
        "        precisions[uid] = n_rel_and_rec_k / n_rec_k if n_rec_k != 0 else 0\n",
        "\n",
        "        # Recall@K: Proportion of relevant items that are recommended\n",
        "        # When n_rel is 0, Recall is undefined. We here set it to 0.\n",
        "\n",
        "        recalls[uid] = n_rel_and_rec_k / n_rel if n_rel != 0 else 0\n",
        "\n",
        "    return precisions, recalls\n",
        "\n"
      ]
    },
    {
      "cell_type": "code",
      "execution_count": 63,
      "metadata": {
        "id": "57qD5TFRnm1W"
      },
      "outputs": [
        {
          "name": "stdout",
          "output_type": "stream",
          "text": [
            "> k=5, model=KNNBasic\n",
            "-----> Precision:  0.767\n",
            "-----> Recall:  0.413\n",
            "> k=5, model=KNNBasic\n",
            "-----> Precision:  0.767\n",
            "-----> Recall:  0.409\n",
            "> k=5, model=KNNBasic\n",
            "-----> Precision:  0.61\n",
            "-----> Recall:  0.328\n",
            "> k=5, model=KNNBasic\n",
            "-----> Precision:  0.779\n",
            "-----> Recall:  0.422\n",
            "> k=5, model=SVD\n",
            "-----> Precision:  0.756\n",
            "-----> Recall:  0.384\n",
            "> k=5, model=SVD\n",
            "-----> Precision:  0.747\n",
            "-----> Recall:  0.386\n",
            "> k=10, model=KNNBasic\n",
            "-----> Precision:  0.745\n",
            "-----> Recall:  0.547\n",
            "> k=10, model=KNNBasic\n",
            "-----> Precision:  0.75\n",
            "-----> Recall:  0.55\n",
            "> k=10, model=KNNBasic\n",
            "-----> Precision:  0.598\n",
            "-----> Recall:  0.478\n",
            "> k=10, model=KNNBasic\n",
            "-----> Precision:  0.753\n",
            "-----> Recall:  0.568\n",
            "> k=10, model=SVD\n",
            "-----> Precision:  0.734\n",
            "-----> Recall:  0.516\n",
            "> k=10, model=SVD\n",
            "-----> Precision:  0.731\n",
            "-----> Recall:  0.521\n"
          ]
        }
      ],
      "source": [
        "# A basic cross-validation iterator.\n",
        "kf = KFold(n_splits=5)\n",
        "\n",
        "# Make list of k values\n",
        "K = [5, 10]\n",
        "\n",
        "# Remove _______ and complete the code\n",
        "# Make list of models\n",
        "models = [algo_knn_user, similarity_algo_optimized_user, algo_knn_item, similarity_algo_optimized_item, algo_svd, svd_algo_optimized]\n",
        "\n",
        "for k in K:\n",
        "    for model in models:\n",
        "        print('> k={}, model={}'.format(k,model.__class__.__name__))\n",
        "        p = []\n",
        "        r = []\n",
        "        for trainset, testset in kf.split(data):\n",
        "            model.fit(trainset)\n",
        "            predictions = model.test(testset, verbose=False)\n",
        "            precisions, recalls = precision_recall_at_k(predictions, k=k, threshold=3.5)\n",
        "\n",
        "            # Precision and recall can then be averaged over all users\n",
        "            p.append(sum(prec for prec in precisions.values()) / len(precisions))\n",
        "            r.append(sum(rec for rec in recalls.values()) / len(recalls))\n",
        "        \n",
        "        print('-----> Precision: ', round(sum(p) / len(p), 3))\n",
        "        print('-----> Recall: ', round(sum(r) / len(r), 3))"
      ]
    },
    {
      "cell_type": "markdown",
      "metadata": {
        "id": "08dezW5P6O1Z"
      },
      "source": [
        "### **Question 7 ( 5 Marks)**\n",
        "**7.1 Compare the results from the base line user-user and item-item based models.**\n",
        "\n",
        "**7.2 How do these baseline models compare to each other with respect to the tuned user-user and item-item models?**\n",
        "\n",
        "**7.3 The matrix factorization model is different from the collaborative filtering models. Briefly describe this difference. Also, compare the RMSE and precision recall for the models.**\n",
        "\n",
        "**7.4 Does it improve? Can you offer any reasoning as to why that might be?**"
      ]
    },
    {
      "attachments": {},
      "cell_type": "markdown",
      "metadata": {
        "id": "2W0MdIZ1wIDS"
      },
      "source": [
        "-(7.1) User based RMSE value was 0.9925 while the Item based model RMSE is 1.0032. indicating, tuned Collaborative Filtering Models have performed better than baseline models. \n",
        "\n",
        "-(7.2) the user-user based tuned model is performing better and has an rmse of 0.9465 \n",
        "\n",
        "-(7.3) The Collaborative Models use the user-item-ratings data to find similarities and make predictions rather than just predicting a undefined rating based on the distribution of the data. Which could be why the Collaborative filtering performed well.\n",
        "\n",
        "-(7.4) Tuning SVD matrix factorization model is not improving the base line SVD much. Matrix Factorization has lower RMSE because it assumes that both items and users are present in some low dimensional space describing their properties and recommend a item based on its proximity to the user in the latent space. Implying it accounts for latent factors as well.\n"
      ]
    },
    {
      "cell_type": "markdown",
      "metadata": {
        "id": "TgDOPCXOvOOM"
      },
      "source": [
        "### **Conclusions**"
      ]
    },
    {
      "cell_type": "markdown",
      "metadata": {
        "id": "WJ4L2PwQvOOM"
      },
      "source": [
        "In this case study, we saw three different ways of building recommendation systems: \n",
        "- rank-based using averages\n",
        "- similarity-based collaborative filtering\n",
        "- model-based (matrix factorization) collaborative filtering"
      ]
    },
    {
      "cell_type": "markdown",
      "metadata": {
        "id": "4XP9B9bVvOOM"
      },
      "source": [
        "We also understood advantages/disadvantages of these recommendation systems and when to use which kind of recommendation systems. Once we build these recommendation systems, we can use **A/B Testing** to measure the effectiveness of these systems."
      ]
    },
    {
      "cell_type": "markdown",
      "metadata": {
        "id": "fAQfeVYLvOOM"
      },
      "source": [
        "Here is an article explaining how [Amazon use **A/B Testing**](https://aws.amazon.com/blogs/machine-learning/using-a-b-testing-to-measure-the-efficacy-of-recommendations-generated-by-amazon-personalize/) to measure effectiveness of its recommendation systems."
      ]
    }
  ],
  "metadata": {
    "colab": {
      "collapsed_sections": [],
      "provenance": []
    },
    "kernelspec": {
      "display_name": "base",
      "language": "python",
      "name": "python3"
    },
    "language_info": {
      "codemirror_mode": {
        "name": "ipython",
        "version": 3
      },
      "file_extension": ".py",
      "mimetype": "text/x-python",
      "name": "python",
      "nbconvert_exporter": "python",
      "pygments_lexer": "ipython3",
      "version": "3.9.13"
    },
    "vscode": {
      "interpreter": {
        "hash": "5941641bc504bc27fafb3cc8c979939699758aec0273121dcdaf46fbb4577b5e"
      }
    }
  },
  "nbformat": 4,
  "nbformat_minor": 0
}
